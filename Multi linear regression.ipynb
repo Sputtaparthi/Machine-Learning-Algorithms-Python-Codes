{
 "cells": [
  {
   "cell_type": "markdown",
   "id": "eca39795",
   "metadata": {},
   "source": [
    "# Startup Solution\n",
    "\n",
    "Prepare a prediction model for profit of 50_startups data.\n",
    "Do transformations for getting better predictions of profit and\n",
    "make a table containing R^2 value for each prepared model.\n",
    "\n",
    "R&D Spend -- Research and devolop spend in the past few years\n",
    "Administration -- spend on administration in the past few years\n",
    "Marketing Spend -- spend on Marketing in the past few years\n",
    "State -- states from which data is collected\n",
    "Profit  -- profit of each state in the past few years\n"
   ]
  },
  {
   "cell_type": "code",
   "execution_count": 184,
   "id": "7d14d020",
   "metadata": {},
   "outputs": [],
   "source": [
    "import pandas as pd\n",
    "import numpy as np\n",
    "import matplotlib.pyplot as plt\n",
    "import seaborn as sn\n",
    "import statsmodels.formula.api as smf\n",
    "from statsmodels.graphics.regressionplots import influence_plot"
   ]
  },
  {
   "cell_type": "code",
   "execution_count": 185,
   "id": "c0063550",
   "metadata": {},
   "outputs": [
    {
     "data": {
      "text/plain": [
       "(50, 5)"
      ]
     },
     "execution_count": 185,
     "metadata": {},
     "output_type": "execute_result"
    }
   ],
   "source": [
    "sp=pd.read_csv(\"50_Startups.csv\")\n",
    "sp.sample(6)\n",
    "sp.shape"
   ]
  },
  {
   "cell_type": "code",
   "execution_count": 186,
   "id": "39b9ab08",
   "metadata": {},
   "outputs": [
    {
     "data": {
      "text/html": [
       "<div>\n",
       "<style scoped>\n",
       "    .dataframe tbody tr th:only-of-type {\n",
       "        vertical-align: middle;\n",
       "    }\n",
       "\n",
       "    .dataframe tbody tr th {\n",
       "        vertical-align: top;\n",
       "    }\n",
       "\n",
       "    .dataframe thead th {\n",
       "        text-align: right;\n",
       "    }\n",
       "</style>\n",
       "<table border=\"1\" class=\"dataframe\">\n",
       "  <thead>\n",
       "    <tr style=\"text-align: right;\">\n",
       "      <th></th>\n",
       "      <th>R&amp;D Spend</th>\n",
       "      <th>Administration</th>\n",
       "      <th>Marketing Spend</th>\n",
       "      <th>Profit</th>\n",
       "    </tr>\n",
       "  </thead>\n",
       "  <tbody>\n",
       "    <tr>\n",
       "      <th>R&amp;D Spend</th>\n",
       "      <td>1.000000</td>\n",
       "      <td>0.241955</td>\n",
       "      <td>0.724248</td>\n",
       "      <td>0.972900</td>\n",
       "    </tr>\n",
       "    <tr>\n",
       "      <th>Administration</th>\n",
       "      <td>0.241955</td>\n",
       "      <td>1.000000</td>\n",
       "      <td>-0.032154</td>\n",
       "      <td>0.200717</td>\n",
       "    </tr>\n",
       "    <tr>\n",
       "      <th>Marketing Spend</th>\n",
       "      <td>0.724248</td>\n",
       "      <td>-0.032154</td>\n",
       "      <td>1.000000</td>\n",
       "      <td>0.747766</td>\n",
       "    </tr>\n",
       "    <tr>\n",
       "      <th>Profit</th>\n",
       "      <td>0.972900</td>\n",
       "      <td>0.200717</td>\n",
       "      <td>0.747766</td>\n",
       "      <td>1.000000</td>\n",
       "    </tr>\n",
       "  </tbody>\n",
       "</table>\n",
       "</div>"
      ],
      "text/plain": [
       "                 R&D Spend  Administration  Marketing Spend    Profit\n",
       "R&D Spend         1.000000        0.241955         0.724248  0.972900\n",
       "Administration    0.241955        1.000000        -0.032154  0.200717\n",
       "Marketing Spend   0.724248       -0.032154         1.000000  0.747766\n",
       "Profit            0.972900        0.200717         0.747766  1.000000"
      ]
     },
     "execution_count": 186,
     "metadata": {},
     "output_type": "execute_result"
    }
   ],
   "source": [
    "sp.corr()"
   ]
  },
  {
   "cell_type": "code",
   "execution_count": 187,
   "id": "50b4ad06",
   "metadata": {},
   "outputs": [
    {
     "data": {
      "text/plain": [
       "<AxesSubplot:>"
      ]
     },
     "execution_count": 187,
     "metadata": {},
     "output_type": "execute_result"
    },
    {
     "data": {
      "image/png": "[encoded data removed]",
      "text/plain": [
       "<Figure size 432x288 with 2 Axes>"
      ]
     },
     "metadata": {},
     "output_type": "display_data"
    }
   ],
   "source": [
    "sn.heatmap(sp.corr(),annot=True)"
   ]
  },
  {
   "cell_type": "code",
   "execution_count": 190,
   "id": "f5692e19",
   "metadata": {},
   "outputs": [
    {
     "data": {
      "text/plain": [
       "Index(['R&D Spend', 'Administration', 'Marketing Spend', 'State', 'Profit'], dtype='object')"
      ]
     },
     "execution_count": 190,
     "metadata": {},
     "output_type": "execute_result"
    }
   ],
   "source": [
    "sp.columns"
   ]
  },
  {
   "cell_type": "code",
   "execution_count": 191,
   "id": "d50ff591",
   "metadata": {},
   "outputs": [],
   "source": [
    "sp=sp.rename(columns={\"R&D Spend\":\"Spend\",\"Marketing Spend\":\"Marketing_Spend\"})"
   ]
  },
  {
   "cell_type": "code",
   "execution_count": 192,
   "id": "2e97cbfd",
   "metadata": {},
   "outputs": [
    {
     "data": {
      "text/html": [
       "<div>\n",
       "<style scoped>\n",
       "    .dataframe tbody tr th:only-of-type {\n",
       "        vertical-align: middle;\n",
       "    }\n",
       "\n",
       "    .dataframe tbody tr th {\n",
       "        vertical-align: top;\n",
       "    }\n",
       "\n",
       "    .dataframe thead th {\n",
       "        text-align: right;\n",
       "    }\n",
       "</style>\n",
       "<table border=\"1\" class=\"dataframe\">\n",
       "  <thead>\n",
       "    <tr style=\"text-align: right;\">\n",
       "      <th></th>\n",
       "      <th>Spend</th>\n",
       "      <th>Administration</th>\n",
       "      <th>Marketing_Spend</th>\n",
       "      <th>State</th>\n",
       "      <th>Profit</th>\n",
       "    </tr>\n",
       "  </thead>\n",
       "  <tbody>\n",
       "    <tr>\n",
       "      <th>23</th>\n",
       "      <td>67532.53</td>\n",
       "      <td>105751.03</td>\n",
       "      <td>304768.73</td>\n",
       "      <td>Florida</td>\n",
       "      <td>108733.99</td>\n",
       "    </tr>\n",
       "    <tr>\n",
       "      <th>0</th>\n",
       "      <td>165349.20</td>\n",
       "      <td>136897.80</td>\n",
       "      <td>471784.10</td>\n",
       "      <td>New York</td>\n",
       "      <td>192261.83</td>\n",
       "    </tr>\n",
       "    <tr>\n",
       "      <th>5</th>\n",
       "      <td>131876.90</td>\n",
       "      <td>99814.71</td>\n",
       "      <td>362861.36</td>\n",
       "      <td>New York</td>\n",
       "      <td>156991.12</td>\n",
       "    </tr>\n",
       "    <tr>\n",
       "      <th>2</th>\n",
       "      <td>153441.51</td>\n",
       "      <td>101145.55</td>\n",
       "      <td>407934.54</td>\n",
       "      <td>Florida</td>\n",
       "      <td>191050.39</td>\n",
       "    </tr>\n",
       "  </tbody>\n",
       "</table>\n",
       "</div>"
      ],
      "text/plain": [
       "        Spend  Administration  Marketing_Spend     State     Profit\n",
       "23   67532.53       105751.03        304768.73   Florida  108733.99\n",
       "0   165349.20       136897.80        471784.10  New York  192261.83\n",
       "5   131876.90        99814.71        362861.36  New York  156991.12\n",
       "2   153441.51       101145.55        407934.54   Florida  191050.39"
      ]
     },
     "execution_count": 192,
     "metadata": {},
     "output_type": "execute_result"
    }
   ],
   "source": [
    "sp.sample(4)"
   ]
  },
  {
   "cell_type": "code",
   "execution_count": null,
   "id": "7a163709",
   "metadata": {},
   "outputs": [],
   "source": [
    "#Basic Model with given data"
   ]
  },
  {
   "cell_type": "code",
   "execution_count": 193,
   "id": "2c013cf7",
   "metadata": {},
   "outputs": [
    {
     "data": {
      "text/html": [
       "<table class=\"simpletable\">\n",
       "<caption>OLS Regression Results</caption>\n",
       "<tr>\n",
       "  <th>Dep. Variable:</th>         <td>Profit</td>      <th>  R-squared:         </th> <td>   0.951</td>\n",
       "</tr>\n",
       "<tr>\n",
       "  <th>Model:</th>                   <td>OLS</td>       <th>  Adj. R-squared:    </th> <td>   0.945</td>\n",
       "</tr>\n",
       "<tr>\n",
       "  <th>Method:</th>             <td>Least Squares</td>  <th>  F-statistic:       </th> <td>   169.9</td>\n",
       "</tr>\n",
       "<tr>\n",
       "  <th>Date:</th>             <td>Fri, 25 Nov 2022</td> <th>  Prob (F-statistic):</th> <td>1.34e-27</td>\n",
       "</tr>\n",
       "<tr>\n",
       "  <th>Time:</th>                 <td>16:12:03</td>     <th>  Log-Likelihood:    </th> <td> -525.38</td>\n",
       "</tr>\n",
       "<tr>\n",
       "  <th>No. Observations:</th>      <td>    50</td>      <th>  AIC:               </th> <td>   1063.</td>\n",
       "</tr>\n",
       "<tr>\n",
       "  <th>Df Residuals:</th>          <td>    44</td>      <th>  BIC:               </th> <td>   1074.</td>\n",
       "</tr>\n",
       "<tr>\n",
       "  <th>Df Model:</th>              <td>     5</td>      <th>                     </th>     <td> </td>   \n",
       "</tr>\n",
       "<tr>\n",
       "  <th>Covariance Type:</th>      <td>nonrobust</td>    <th>                     </th>     <td> </td>   \n",
       "</tr>\n",
       "</table>\n",
       "<table class=\"simpletable\">\n",
       "<tr>\n",
       "          <td></td>             <th>coef</th>     <th>std err</th>      <th>t</th>      <th>P>|t|</th>  <th>[0.025</th>    <th>0.975]</th>  \n",
       "</tr>\n",
       "<tr>\n",
       "  <th>Intercept</th>         <td> 5.013e+04</td> <td> 6884.820</td> <td>    7.281</td> <td> 0.000</td> <td> 3.62e+04</td> <td>  6.4e+04</td>\n",
       "</tr>\n",
       "<tr>\n",
       "  <th>State[T.Florida]</th>  <td>  198.7888</td> <td> 3371.007</td> <td>    0.059</td> <td> 0.953</td> <td>-6595.030</td> <td> 6992.607</td>\n",
       "</tr>\n",
       "<tr>\n",
       "  <th>State[T.New York]</th> <td>  -41.8870</td> <td> 3256.039</td> <td>   -0.013</td> <td> 0.990</td> <td>-6604.003</td> <td> 6520.229</td>\n",
       "</tr>\n",
       "<tr>\n",
       "  <th>Spend</th>             <td>    0.8060</td> <td>    0.046</td> <td>   17.369</td> <td> 0.000</td> <td>    0.712</td> <td>    0.900</td>\n",
       "</tr>\n",
       "<tr>\n",
       "  <th>Administration</th>    <td>   -0.0270</td> <td>    0.052</td> <td>   -0.517</td> <td> 0.608</td> <td>   -0.132</td> <td>    0.078</td>\n",
       "</tr>\n",
       "<tr>\n",
       "  <th>Marketing_Spend</th>   <td>    0.0270</td> <td>    0.017</td> <td>    1.574</td> <td> 0.123</td> <td>   -0.008</td> <td>    0.062</td>\n",
       "</tr>\n",
       "</table>\n",
       "<table class=\"simpletable\">\n",
       "<tr>\n",
       "  <th>Omnibus:</th>       <td>14.782</td> <th>  Durbin-Watson:     </th> <td>   1.283</td>\n",
       "</tr>\n",
       "<tr>\n",
       "  <th>Prob(Omnibus):</th> <td> 0.001</td> <th>  Jarque-Bera (JB):  </th> <td>  21.266</td>\n",
       "</tr>\n",
       "<tr>\n",
       "  <th>Skew:</th>          <td>-0.948</td> <th>  Prob(JB):          </th> <td>2.41e-05</td>\n",
       "</tr>\n",
       "<tr>\n",
       "  <th>Kurtosis:</th>      <td> 5.572</td> <th>  Cond. No.          </th> <td>1.45e+06</td>\n",
       "</tr>\n",
       "</table><br/><br/>Notes:<br/>[1] Standard Errors assume that the covariance matrix of the errors is correctly specified.<br/>[2] The condition number is large, 1.45e+06. This might indicate that there are<br/>strong multicollinearity or other numerical problems."
      ],
      "text/plain": [
       "<class 'statsmodels.iolib.summary.Summary'>\n",
       "\"\"\"\n",
       "                            OLS Regression Results                            \n",
       "==============================================================================\n",
       "Dep. Variable:                 Profit   R-squared:                       0.951\n",
       "Model:                            OLS   Adj. R-squared:                  0.945\n",
       "Method:                 Least Squares   F-statistic:                     169.9\n",
       "Date:                Fri, 25 Nov 2022   Prob (F-statistic):           1.34e-27\n",
       "Time:                        16:12:03   Log-Likelihood:                -525.38\n",
       "No. Observations:                  50   AIC:                             1063.\n",
       "Df Residuals:                      44   BIC:                             1074.\n",
       "Df Model:                           5                                         \n",
       "Covariance Type:            nonrobust                                         \n",
       "=====================================================================================\n",
       "                        coef    std err          t      P>|t|      [0.025      0.975]\n",
       "-------------------------------------------------------------------------------------\n",
       "Intercept          5.013e+04   6884.820      7.281      0.000    3.62e+04     6.4e+04\n",
       "State[T.Florida]    198.7888   3371.007      0.059      0.953   -6595.030    6992.607\n",
       "State[T.New York]   -41.8870   3256.039     -0.013      0.990   -6604.003    6520.229\n",
       "Spend                 0.8060      0.046     17.369      0.000       0.712       0.900\n",
       "Administration       -0.0270      0.052     -0.517      0.608      -0.132       0.078\n",
       "Marketing_Spend       0.0270      0.017      1.574      0.123      -0.008       0.062\n",
       "==============================================================================\n",
       "Omnibus:                       14.782   Durbin-Watson:                   1.283\n",
       "Prob(Omnibus):                  0.001   Jarque-Bera (JB):               21.266\n",
       "Skew:                          -0.948   Prob(JB):                     2.41e-05\n",
       "Kurtosis:                       5.572   Cond. No.                     1.45e+06\n",
       "==============================================================================\n",
       "\n",
       "Notes:\n",
       "[1] Standard Errors assume that the covariance matrix of the errors is correctly specified.\n",
       "[2] The condition number is large, 1.45e+06. This might indicate that there are\n",
       "strong multicollinearity or other numerical problems.\n",
       "\"\"\""
      ]
     },
     "execution_count": 193,
     "metadata": {},
     "output_type": "execute_result"
    }
   ],
   "source": [
    "model=smf.ols('Profit~Spend+Administration+Marketing_Spend+State',data=sp).fit()\n",
    "model.summary()"
   ]
  },
  {
   "cell_type": "code",
   "execution_count": 194,
   "id": "2c8019ea",
   "metadata": {},
   "outputs": [
    {
     "data": {
      "text/plain": [
       "Index(['Spend', 'Administration', 'Marketing_Spend', 'State', 'Profit'], dtype='object')"
      ]
     },
     "execution_count": 194,
     "metadata": {},
     "output_type": "execute_result"
    }
   ],
   "source": [
    "sp.columns"
   ]
  },
  {
   "cell_type": "code",
   "execution_count": 196,
   "id": "7fe3b351",
   "metadata": {},
   "outputs": [
    {
     "name": "stdout",
     "output_type": "stream",
     "text": [
      "0.5949618224573936 2.4689030699947017 0.14900208239517554 1.1750910070550458 0.5702202685282503 2.3267732905308773\n"
     ]
    }
   ],
   "source": [
    "#Calucating VIF\n",
    "spend_rsq=smf.ols('Spend~Administration+Marketing_Spend',data=sp).fit().rsquared\n",
    "spend_vif=1/(1-spend_rsq)\n",
    "adm_rsq=smf.ols('Administration~Spend+Marketing_Spend',data=sp).fit().rsquared\n",
    "adm_vif=1/(1-adm_rsq)\n",
    "mark_rsq=smf.ols('Marketing_Spend~Spend+Administration',data=sp).fit().rsquared\n",
    "mark_vif=1/(1-mark_rsq)\n",
    "print(spend_rsq,spend_vif,adm_rsq,adm_vif,mark_rsq,mark_vif)"
   ]
  },
  {
   "cell_type": "code",
   "execution_count": 197,
   "id": "1503e3fc",
   "metadata": {},
   "outputs": [
    {
     "name": "stdout",
     "output_type": "stream",
     "text": [
      "          Varibles       VIF\n",
      "0            Spend  2.468903\n",
      "1   Administration  1.175091\n",
      "2  Marketing_Spend  2.326773\n"
     ]
    }
   ],
   "source": [
    "df={'Varibles':['Spend', 'Administration', 'Marketing_Spend'],'VIF':[spend_vif,adm_vif,mark_vif]}\n",
    "vif_frame=pd.DataFrame(df)\n",
    "print(vif_frame)"
   ]
  },
  {
   "cell_type": "code",
   "execution_count": 198,
   "id": "2565ce87",
   "metadata": {},
   "outputs": [],
   "source": [
    "#2nd Assumption"
   ]
  },
  {
   "cell_type": "code",
   "execution_count": 199,
   "id": "aa15c5dc",
   "metadata": {},
   "outputs": [],
   "source": [
    "#Error should not be dependent on features, hence all features included in prediction we can calucate error vs prediction"
   ]
  },
  {
   "cell_type": "code",
   "execution_count": 131,
   "id": "d1979e8f",
   "metadata": {},
   "outputs": [],
   "source": [
    "error=model.resid"
   ]
  },
  {
   "cell_type": "code",
   "execution_count": 132,
   "id": "01a203fc",
   "metadata": {},
   "outputs": [],
   "source": [
    "y_pred=model.predict()"
   ]
  },
  {
   "cell_type": "code",
   "execution_count": 133,
   "id": "e088334d",
   "metadata": {},
   "outputs": [
    {
     "data": {
      "text/plain": [
       "Text(0, 0.5, 'Error')"
      ]
     },
     "execution_count": 133,
     "metadata": {},
     "output_type": "execute_result"
    },
    {
     "data": {
      "image/png": "[encoded data removed]",
      "text/plain": [
       "<Figure size 1080x576 with 1 Axes>"
      ]
     },
     "metadata": {},
     "output_type": "display_data"
    }
   ],
   "source": [
    "plt.figure(figsize=(15,8),facecolor='yellow',label=\"50_Startups\")\n",
    "plt.scatter(error,y_pred,color='blue')\n",
    "plt.xlabel(\"Prediction(Y^)\")\n",
    "plt.ylabel(\"Error\")\n",
    "#There is no pattern show(Hence all features are independant)"
   ]
  },
  {
   "cell_type": "code",
   "execution_count": 203,
   "id": "3062c302",
   "metadata": {},
   "outputs": [],
   "source": [
    "#3rd Assumption - Test for Normality"
   ]
  },
  {
   "cell_type": "code",
   "execution_count": 205,
   "id": "179ef29f",
   "metadata": {},
   "outputs": [
    {
     "data": {
      "image/png": "[encoded data removed]",
      "text/plain": [
       "<Figure size 432x288 with 1 Axes>"
      ]
     },
     "metadata": {},
     "output_type": "display_data"
    }
   ],
   "source": [
    "plt.hist(model.resid)\n",
    "plt.show()"
   ]
  },
  {
   "cell_type": "code",
   "execution_count": 216,
   "id": "4e007da2",
   "metadata": {},
   "outputs": [
    {
     "data": {
      "image/png": "[encoded data removed]",
      "text/plain": [
       "<Figure size 432x288 with 1 Axes>"
      ]
     },
     "metadata": {},
     "output_type": "display_data"
    }
   ],
   "source": [
    "import statsmodels.api as sm\n",
    "qqplot=sm.qqplot(model.resid,line='q') # line = 45 to draw the diagnoal line\n",
    "plt.title(\"Normal Q-Q plot of residuals\")\n",
    "plt.show()"
   ]
  },
  {
   "cell_type": "code",
   "execution_count": 134,
   "id": "897ea75e",
   "metadata": {},
   "outputs": [],
   "source": [
    "model_influence = model.get_influence()\n",
    "(c, _) = model_influence.cooks_distance"
   ]
  },
  {
   "cell_type": "code",
   "execution_count": 135,
   "id": "77951085",
   "metadata": {},
   "outputs": [
    {
     "name": "stdout",
     "output_type": "stream",
     "text": [
      "0.24\n"
     ]
    }
   ],
   "source": [
    "K=3\n",
    "N=50\n",
    "cooks_dist=3*(K+1)/N\n",
    "print(cooks_dist)"
   ]
  },
  {
   "cell_type": "code",
   "execution_count": 136,
   "id": "19955c51",
   "metadata": {},
   "outputs": [
    {
     "data": {
      "image/png": "[encoded data removed]",
      "text/plain": [
       "<Figure size 1440x504 with 1 Axes>"
      ]
     },
     "metadata": {
      "needs_background": "light"
     },
     "output_type": "display_data"
    }
   ],
   "source": [
    "fig = plt.figure(figsize=(20, 7))\n",
    "plt.stem(np.arange(len(sp)), np.round(c, 3))\n",
    "plt.xlabel('Row index')\n",
    "plt.ylabel('Cooks Distance')\n",
    "plt.show()"
   ]
  },
  {
   "cell_type": "code",
   "execution_count": 137,
   "id": "eb5894ab",
   "metadata": {},
   "outputs": [
    {
     "data": {
      "text/plain": [
       "(49, 0.2639594358692202)"
      ]
     },
     "execution_count": 137,
     "metadata": {},
     "output_type": "execute_result"
    }
   ],
   "source": [
    "(np.argmax(c),np.max(c))"
   ]
  },
  {
   "cell_type": "code",
   "execution_count": 138,
   "id": "45d24df4",
   "metadata": {},
   "outputs": [
    {
     "data": {
      "text/plain": [
       "(array([49], dtype=int64),)"
      ]
     },
     "execution_count": 138,
     "metadata": {},
     "output_type": "execute_result"
    }
   ],
   "source": [
    "np.where(c>0.24)"
   ]
  },
  {
   "cell_type": "code",
   "execution_count": 139,
   "id": "5eacadc0",
   "metadata": {},
   "outputs": [
    {
     "data": {
      "text/plain": [
       "(50, 5)"
      ]
     },
     "execution_count": 139,
     "metadata": {},
     "output_type": "execute_result"
    }
   ],
   "source": [
    "sp1=sp\n",
    "sp1.shape"
   ]
  },
  {
   "cell_type": "code",
   "execution_count": 140,
   "id": "767754f9",
   "metadata": {},
   "outputs": [],
   "source": [
    "#Discard the data points which are influencers and reasign the row number (reset_index())\n",
    "sp1=sp.drop(sp1.index[[49]],axis=0).reset_index()\n",
    "sp1=sp1.drop(['index'],axis=1)"
   ]
  },
  {
   "cell_type": "code",
   "execution_count": 141,
   "id": "e04e29ff",
   "metadata": {},
   "outputs": [
    {
     "data": {
      "text/plain": [
       "(49, 5)"
      ]
     },
     "execution_count": 141,
     "metadata": {},
     "output_type": "execute_result"
    }
   ],
   "source": [
    "sp1.tail(5)\n",
    "sp1.shape"
   ]
  },
  {
   "cell_type": "code",
   "execution_count": 142,
   "id": "d347342e",
   "metadata": {},
   "outputs": [
    {
     "data": {
      "text/html": [
       "<table class=\"simpletable\">\n",
       "<caption>OLS Regression Results</caption>\n",
       "<tr>\n",
       "  <th>Dep. Variable:</th>         <td>Profit</td>      <th>  R-squared:         </th> <td>   0.962</td>\n",
       "</tr>\n",
       "<tr>\n",
       "  <th>Model:</th>                   <td>OLS</td>       <th>  Adj. R-squared:    </th> <td>   0.957</td>\n",
       "</tr>\n",
       "<tr>\n",
       "  <th>Method:</th>             <td>Least Squares</td>  <th>  F-statistic:       </th> <td>   216.6</td>\n",
       "</tr>\n",
       "<tr>\n",
       "  <th>Date:</th>             <td>Mon, 02 Jan 2023</td> <th>  Prob (F-statistic):</th> <td>2.51e-29</td>\n",
       "</tr>\n",
       "<tr>\n",
       "  <th>Time:</th>                 <td>17:09:46</td>     <th>  Log-Likelihood:    </th> <td> -505.97</td>\n",
       "</tr>\n",
       "<tr>\n",
       "  <th>No. Observations:</th>      <td>    49</td>      <th>  AIC:               </th> <td>   1024.</td>\n",
       "</tr>\n",
       "<tr>\n",
       "  <th>Df Residuals:</th>          <td>    43</td>      <th>  BIC:               </th> <td>   1035.</td>\n",
       "</tr>\n",
       "<tr>\n",
       "  <th>Df Model:</th>              <td>     5</td>      <th>                     </th>     <td> </td>   \n",
       "</tr>\n",
       "<tr>\n",
       "  <th>Covariance Type:</th>      <td>nonrobust</td>    <th>                     </th>     <td> </td>   \n",
       "</tr>\n",
       "</table>\n",
       "<table class=\"simpletable\">\n",
       "<tr>\n",
       "          <td></td>             <th>coef</th>     <th>std err</th>      <th>t</th>      <th>P>|t|</th>  <th>[0.025</th>    <th>0.975]</th>  \n",
       "</tr>\n",
       "<tr>\n",
       "  <th>Intercept</th>         <td> 5.338e+04</td> <td> 5794.239</td> <td>    9.212</td> <td> 0.000</td> <td> 4.17e+04</td> <td> 6.51e+04</td>\n",
       "</tr>\n",
       "<tr>\n",
       "  <th>State[T.Florida]</th>  <td>-1564.2242</td> <td> 2842.017</td> <td>   -0.550</td> <td> 0.585</td> <td>-7295.698</td> <td> 4167.249</td>\n",
       "</tr>\n",
       "<tr>\n",
       "  <th>State[T.New York]</th> <td>-1954.0177</td> <td> 2751.932</td> <td>   -0.710</td> <td> 0.482</td> <td>-7503.818</td> <td> 3595.783</td>\n",
       "</tr>\n",
       "<tr>\n",
       "  <th>Spend</th>             <td>    0.7836</td> <td>    0.039</td> <td>   20.056</td> <td> 0.000</td> <td>    0.705</td> <td>    0.862</td>\n",
       "</tr>\n",
       "<tr>\n",
       "  <th>Administration</th>    <td>   -0.0220</td> <td>    0.044</td> <td>   -0.505</td> <td> 0.616</td> <td>   -0.110</td> <td>    0.066</td>\n",
       "</tr>\n",
       "<tr>\n",
       "  <th>Marketing_Spend</th>   <td>    0.0258</td> <td>    0.014</td> <td>    1.804</td> <td> 0.078</td> <td>   -0.003</td> <td>    0.055</td>\n",
       "</tr>\n",
       "</table>\n",
       "<table class=\"simpletable\">\n",
       "<tr>\n",
       "  <th>Omnibus:</th>       <td> 0.051</td> <th>  Durbin-Watson:     </th> <td>   1.667</td>\n",
       "</tr>\n",
       "<tr>\n",
       "  <th>Prob(Omnibus):</th> <td> 0.975</td> <th>  Jarque-Bera (JB):  </th> <td>   0.207</td>\n",
       "</tr>\n",
       "<tr>\n",
       "  <th>Skew:</th>          <td> 0.061</td> <th>  Prob(JB):          </th> <td>   0.902</td>\n",
       "</tr>\n",
       "<tr>\n",
       "  <th>Kurtosis:</th>      <td> 2.705</td> <th>  Cond. No.          </th> <td>1.46e+06</td>\n",
       "</tr>\n",
       "</table><br/><br/>Notes:<br/>[1] Standard Errors assume that the covariance matrix of the errors is correctly specified.<br/>[2] The condition number is large, 1.46e+06. This might indicate that there are<br/>strong multicollinearity or other numerical problems."
      ],
      "text/plain": [
       "<class 'statsmodels.iolib.summary.Summary'>\n",
       "\"\"\"\n",
       "                            OLS Regression Results                            \n",
       "==============================================================================\n",
       "Dep. Variable:                 Profit   R-squared:                       0.962\n",
       "Model:                            OLS   Adj. R-squared:                  0.957\n",
       "Method:                 Least Squares   F-statistic:                     216.6\n",
       "Date:                Mon, 02 Jan 2023   Prob (F-statistic):           2.51e-29\n",
       "Time:                        17:09:46   Log-Likelihood:                -505.97\n",
       "No. Observations:                  49   AIC:                             1024.\n",
       "Df Residuals:                      43   BIC:                             1035.\n",
       "Df Model:                           5                                         \n",
       "Covariance Type:            nonrobust                                         \n",
       "=====================================================================================\n",
       "                        coef    std err          t      P>|t|      [0.025      0.975]\n",
       "-------------------------------------------------------------------------------------\n",
       "Intercept          5.338e+04   5794.239      9.212      0.000    4.17e+04    6.51e+04\n",
       "State[T.Florida]  -1564.2242   2842.017     -0.550      0.585   -7295.698    4167.249\n",
       "State[T.New York] -1954.0177   2751.932     -0.710      0.482   -7503.818    3595.783\n",
       "Spend                 0.7836      0.039     20.056      0.000       0.705       0.862\n",
       "Administration       -0.0220      0.044     -0.505      0.616      -0.110       0.066\n",
       "Marketing_Spend       0.0258      0.014      1.804      0.078      -0.003       0.055\n",
       "==============================================================================\n",
       "Omnibus:                        0.051   Durbin-Watson:                   1.667\n",
       "Prob(Omnibus):                  0.975   Jarque-Bera (JB):                0.207\n",
       "Skew:                           0.061   Prob(JB):                        0.902\n",
       "Kurtosis:                       2.705   Cond. No.                     1.46e+06\n",
       "==============================================================================\n",
       "\n",
       "Notes:\n",
       "[1] Standard Errors assume that the covariance matrix of the errors is correctly specified.\n",
       "[2] The condition number is large, 1.46e+06. This might indicate that there are\n",
       "strong multicollinearity or other numerical problems.\n",
       "\"\"\""
      ]
     },
     "execution_count": 142,
     "metadata": {},
     "output_type": "execute_result"
    }
   ],
   "source": [
    "model1=smf.ols('Profit~Spend+Administration+Marketing_Spend+State',data=sp1).fit()\n",
    "model1.summary()"
   ]
  },
  {
   "cell_type": "code",
   "execution_count": 144,
   "id": "a665b636",
   "metadata": {},
   "outputs": [],
   "source": [
    "#4th Assumption - Homoscadasticiry"
   ]
  },
  {
   "cell_type": "code",
   "execution_count": 145,
   "id": "19c86b77",
   "metadata": {},
   "outputs": [],
   "source": [
    "def get_standardized_values( val ):\n",
    "    return (val - val.mean())/val.std()"
   ]
  },
  {
   "cell_type": "code",
   "execution_count": 231,
   "id": "6192c78d",
   "metadata": {},
   "outputs": [
    {
     "data": {
      "image/png": "[encoded data removed]",
      "text/plain": [
       "<Figure size 432x288 with 1 Axes>"
      ]
     },
     "metadata": {},
     "output_type": "display_data"
    }
   ],
   "source": [
    "plt.scatter(get_standardized_values(model1.fittedvalues),\n",
    "            get_standardized_values(model1.resid))\n",
    "\n",
    "plt.title('Residual Plot')\n",
    "plt.xlabel('Standardized Fitted values')\n",
    "plt.ylabel('Standardized residual values')\n",
    "plt.show()"
   ]
  },
  {
   "cell_type": "code",
   "execution_count": null,
   "id": "bdc752b0",
   "metadata": {},
   "outputs": [],
   "source": [
    "#Build Model"
   ]
  },
  {
   "cell_type": "code",
   "execution_count": 233,
   "id": "9181d804",
   "metadata": {},
   "outputs": [
    {
     "data": {
      "text/html": [
       "<table class=\"simpletable\">\n",
       "<caption>OLS Regression Results</caption>\n",
       "<tr>\n",
       "  <th>Dep. Variable:</th>         <td>Profit</td>      <th>  R-squared:         </th> <td>   0.962</td>\n",
       "</tr>\n",
       "<tr>\n",
       "  <th>Model:</th>                   <td>OLS</td>       <th>  Adj. R-squared:    </th> <td>   0.957</td>\n",
       "</tr>\n",
       "<tr>\n",
       "  <th>Method:</th>             <td>Least Squares</td>  <th>  F-statistic:       </th> <td>   216.6</td>\n",
       "</tr>\n",
       "<tr>\n",
       "  <th>Date:</th>             <td>Fri, 25 Nov 2022</td> <th>  Prob (F-statistic):</th> <td>2.51e-29</td>\n",
       "</tr>\n",
       "<tr>\n",
       "  <th>Time:</th>                 <td>16:30:30</td>     <th>  Log-Likelihood:    </th> <td> -505.97</td>\n",
       "</tr>\n",
       "<tr>\n",
       "  <th>No. Observations:</th>      <td>    49</td>      <th>  AIC:               </th> <td>   1024.</td>\n",
       "</tr>\n",
       "<tr>\n",
       "  <th>Df Residuals:</th>          <td>    43</td>      <th>  BIC:               </th> <td>   1035.</td>\n",
       "</tr>\n",
       "<tr>\n",
       "  <th>Df Model:</th>              <td>     5</td>      <th>                     </th>     <td> </td>   \n",
       "</tr>\n",
       "<tr>\n",
       "  <th>Covariance Type:</th>      <td>nonrobust</td>    <th>                     </th>     <td> </td>   \n",
       "</tr>\n",
       "</table>\n",
       "<table class=\"simpletable\">\n",
       "<tr>\n",
       "          <td></td>             <th>coef</th>     <th>std err</th>      <th>t</th>      <th>P>|t|</th>  <th>[0.025</th>    <th>0.975]</th>  \n",
       "</tr>\n",
       "<tr>\n",
       "  <th>Intercept</th>         <td> 5.338e+04</td> <td> 5794.239</td> <td>    9.212</td> <td> 0.000</td> <td> 4.17e+04</td> <td> 6.51e+04</td>\n",
       "</tr>\n",
       "<tr>\n",
       "  <th>State[T.Florida]</th>  <td>-1564.2242</td> <td> 2842.017</td> <td>   -0.550</td> <td> 0.585</td> <td>-7295.698</td> <td> 4167.249</td>\n",
       "</tr>\n",
       "<tr>\n",
       "  <th>State[T.New York]</th> <td>-1954.0177</td> <td> 2751.932</td> <td>   -0.710</td> <td> 0.482</td> <td>-7503.818</td> <td> 3595.783</td>\n",
       "</tr>\n",
       "<tr>\n",
       "  <th>Spend</th>             <td>    0.7836</td> <td>    0.039</td> <td>   20.056</td> <td> 0.000</td> <td>    0.705</td> <td>    0.862</td>\n",
       "</tr>\n",
       "<tr>\n",
       "  <th>Administration</th>    <td>   -0.0220</td> <td>    0.044</td> <td>   -0.505</td> <td> 0.616</td> <td>   -0.110</td> <td>    0.066</td>\n",
       "</tr>\n",
       "<tr>\n",
       "  <th>Marketing_Spend</th>   <td>    0.0258</td> <td>    0.014</td> <td>    1.804</td> <td> 0.078</td> <td>   -0.003</td> <td>    0.055</td>\n",
       "</tr>\n",
       "</table>\n",
       "<table class=\"simpletable\">\n",
       "<tr>\n",
       "  <th>Omnibus:</th>       <td> 0.051</td> <th>  Durbin-Watson:     </th> <td>   1.667</td>\n",
       "</tr>\n",
       "<tr>\n",
       "  <th>Prob(Omnibus):</th> <td> 0.975</td> <th>  Jarque-Bera (JB):  </th> <td>   0.207</td>\n",
       "</tr>\n",
       "<tr>\n",
       "  <th>Skew:</th>          <td> 0.061</td> <th>  Prob(JB):          </th> <td>   0.902</td>\n",
       "</tr>\n",
       "<tr>\n",
       "  <th>Kurtosis:</th>      <td> 2.705</td> <th>  Cond. No.          </th> <td>1.46e+06</td>\n",
       "</tr>\n",
       "</table><br/><br/>Notes:<br/>[1] Standard Errors assume that the covariance matrix of the errors is correctly specified.<br/>[2] The condition number is large, 1.46e+06. This might indicate that there are<br/>strong multicollinearity or other numerical problems."
      ],
      "text/plain": [
       "<class 'statsmodels.iolib.summary.Summary'>\n",
       "\"\"\"\n",
       "                            OLS Regression Results                            \n",
       "==============================================================================\n",
       "Dep. Variable:                 Profit   R-squared:                       0.962\n",
       "Model:                            OLS   Adj. R-squared:                  0.957\n",
       "Method:                 Least Squares   F-statistic:                     216.6\n",
       "Date:                Fri, 25 Nov 2022   Prob (F-statistic):           2.51e-29\n",
       "Time:                        16:30:30   Log-Likelihood:                -505.97\n",
       "No. Observations:                  49   AIC:                             1024.\n",
       "Df Residuals:                      43   BIC:                             1035.\n",
       "Df Model:                           5                                         \n",
       "Covariance Type:            nonrobust                                         \n",
       "=====================================================================================\n",
       "                        coef    std err          t      P>|t|      [0.025      0.975]\n",
       "-------------------------------------------------------------------------------------\n",
       "Intercept          5.338e+04   5794.239      9.212      0.000    4.17e+04    6.51e+04\n",
       "State[T.Florida]  -1564.2242   2842.017     -0.550      0.585   -7295.698    4167.249\n",
       "State[T.New York] -1954.0177   2751.932     -0.710      0.482   -7503.818    3595.783\n",
       "Spend                 0.7836      0.039     20.056      0.000       0.705       0.862\n",
       "Administration       -0.0220      0.044     -0.505      0.616      -0.110       0.066\n",
       "Marketing_Spend       0.0258      0.014      1.804      0.078      -0.003       0.055\n",
       "==============================================================================\n",
       "Omnibus:                        0.051   Durbin-Watson:                   1.667\n",
       "Prob(Omnibus):                  0.975   Jarque-Bera (JB):                0.207\n",
       "Skew:                           0.061   Prob(JB):                        0.902\n",
       "Kurtosis:                       2.705   Cond. No.                     1.46e+06\n",
       "==============================================================================\n",
       "\n",
       "Notes:\n",
       "[1] Standard Errors assume that the covariance matrix of the errors is correctly specified.\n",
       "[2] The condition number is large, 1.46e+06. This might indicate that there are\n",
       "strong multicollinearity or other numerical problems.\n",
       "\"\"\""
      ]
     },
     "execution_count": 233,
     "metadata": {},
     "output_type": "execute_result"
    }
   ],
   "source": [
    "final_model=smf.ols('Profit~Spend+Administration+Marketing_Spend+State',data=sp1).fit()\n",
    "final_model.summary()"
   ]
  },
  {
   "cell_type": "code",
   "execution_count": null,
   "id": "31eaa716",
   "metadata": {},
   "outputs": [],
   "source": []
  },
  {
   "cell_type": "code",
   "execution_count": null,
   "id": "45002386",
   "metadata": {},
   "outputs": [],
   "source": [
    "#2nd Assignment - Toyota Cars Solution"
   ]
  },
  {
   "cell_type": "code",
   "execution_count": null,
   "id": "76c29bb4",
   "metadata": {},
   "outputs": [],
   "source": [
    "Consider only the below columns and prepare a prediction model for predicting Price.\n",
    "\n",
    "Corolla<-Corolla[c(\"Price\",\"Age_08_04\",\"KM\",\"HP\",\"cc\",\"Doors\",\"Gears\",\"Quarterly_Tax\",\"Weight\")]\n",
    "\n",
    " \n",
    "\n",
    "Model -- model of the car\n",
    "Price  -- Offer Price in EUROs\t\n",
    "Age_08_04 -- Age in months as in August 2004\t\n",
    "Mfg_Month -- Manufacturing month (1-12)\t\n",
    "Mfg_Year\t-- Manufacturing Year\n",
    "KM -- Accumulated Kilometers on odometer\n",
    "Fuel_Type\t -- Fuel Type (Petrol, Diesel, CNG)\n",
    "HP -- Horse Power\n",
    "Met_Color\t -- Metallic Color?  (Yes=1, No=0)\n",
    "Color -- Color (Blue, Red, Grey, Silver, Black, etc.)\n",
    "Automatic\t-- Automatic ( (Yes=1, No=0)\n",
    "cc -- Cylinder Volume in cubic centimeters\n",
    "Doors -- Number of doors\n",
    "Cylinders\t-- Number of cylinders\n",
    "Gears -- Number of gear positions\n",
    "Quarterly_Tax -- Quarterly road tax in EUROs\n",
    "Weight -- Weight in Kilograms\n",
    "Mfr_Guarantee -- Within Manufacturer's Guarantee period  (Yes=1, No=0)\n",
    "BOVAG_Guarantee -- BOVAG (Dutch dealer network) Guarantee  (Yes=1, No=0)\n",
    "Guarantee_Period -- \tGuarantee period in months\n",
    "ABS -- Anti-Lock Brake System (Yes=1, No=0)\n",
    "Airbag_1 -- Driver_Airbag  (Yes=1, No=0)\n",
    "Airbag_2 -- Passenger Airbag  (Yes=1, No=0)\n",
    "Airco -- Airconditioning  (Yes=1, No=0)\n",
    "Automatic_airco -- Automatic Airconditioning  (Yes=1, No=0)\n",
    "Boardcomputer -- Boardcomputer  (Yes=1, No=0)\n",
    "CD_Player -- CD Player  (Yes=1, No=0)\n",
    "Central_Lock -- Central Lock  (Yes=1, No=0)\n",
    "Powered_Windows -- Powered Windows  (Yes=1, No=0)\n",
    "Power_Steering -- Power Steering  (Yes=1, No=0)\n",
    "Radio -- Radio  (Yes=1, No=0)\n",
    "Mistlamps\t-- Mistlamps  (Yes=1, No=0)\n",
    "Sport_Model -- Sport Model  (Yes=1, No=0)\n",
    "Backseat_Divider -- Backseat Divider  (Yes=1, No=0)\n",
    "Metallic_Rim --Metallic Rim  (Yes=1, No=0)\n",
    "Radio_cassette -- Radio Cassette  (Yes=1, No=0)\n",
    "Tow_Bar -- Tow Bar  (Yes=1, No=0)"
   ]
  },
  {
   "cell_type": "code",
   "execution_count": null,
   "id": "1e97e4de",
   "metadata": {},
   "outputs": [],
   "source": []
  },
  {
   "cell_type": "code",
   "execution_count": 1,
   "id": "fa5ea81a",
   "metadata": {},
   "outputs": [],
   "source": [
    "import pandas as pd\n",
    "import numpy as np\n",
    "import seaborn as sn\n",
    "import matplotlib.pyplot as plt\n",
    "import statsmodels.formula.api as smf\n",
    "import statsmodels.api as sm\n",
    "from statsmodels.graphics.regressionplots import influence_plot\n"
   ]
  },
  {
   "cell_type": "code",
   "execution_count": 14,
   "id": "907a18c6",
   "metadata": {},
   "outputs": [
    {
     "data": {
      "text/html": [
       "<div>\n",
       "<style scoped>\n",
       "    .dataframe tbody tr th:only-of-type {\n",
       "        vertical-align: middle;\n",
       "    }\n",
       "\n",
       "    .dataframe tbody tr th {\n",
       "        vertical-align: top;\n",
       "    }\n",
       "\n",
       "    .dataframe thead th {\n",
       "        text-align: right;\n",
       "    }\n",
       "</style>\n",
       "<table border=\"1\" class=\"dataframe\">\n",
       "  <thead>\n",
       "    <tr style=\"text-align: right;\">\n",
       "      <th></th>\n",
       "      <th>Price</th>\n",
       "      <th>Age</th>\n",
       "      <th>KM</th>\n",
       "      <th>HP</th>\n",
       "      <th>CC</th>\n",
       "      <th>Doors</th>\n",
       "      <th>Gears</th>\n",
       "      <th>Q_Tax</th>\n",
       "      <th>Weight</th>\n",
       "    </tr>\n",
       "  </thead>\n",
       "  <tbody>\n",
       "    <tr>\n",
       "      <th>389</th>\n",
       "      <td>9450</td>\n",
       "      <td>54</td>\n",
       "      <td>138394</td>\n",
       "      <td>69</td>\n",
       "      <td>1900</td>\n",
       "      <td>4</td>\n",
       "      <td>5</td>\n",
       "      <td>185</td>\n",
       "      <td>1095</td>\n",
       "    </tr>\n",
       "    <tr>\n",
       "      <th>1351</th>\n",
       "      <td>5845</td>\n",
       "      <td>70</td>\n",
       "      <td>60600</td>\n",
       "      <td>86</td>\n",
       "      <td>1300</td>\n",
       "      <td>3</td>\n",
       "      <td>5</td>\n",
       "      <td>85</td>\n",
       "      <td>1060</td>\n",
       "    </tr>\n",
       "    <tr>\n",
       "      <th>158</th>\n",
       "      <td>19750</td>\n",
       "      <td>17</td>\n",
       "      <td>11999</td>\n",
       "      <td>110</td>\n",
       "      <td>1600</td>\n",
       "      <td>5</td>\n",
       "      <td>5</td>\n",
       "      <td>85</td>\n",
       "      <td>1130</td>\n",
       "    </tr>\n",
       "    <tr>\n",
       "      <th>945</th>\n",
       "      <td>10250</td>\n",
       "      <td>62</td>\n",
       "      <td>53285</td>\n",
       "      <td>110</td>\n",
       "      <td>1600</td>\n",
       "      <td>5</td>\n",
       "      <td>5</td>\n",
       "      <td>85</td>\n",
       "      <td>1075</td>\n",
       "    </tr>\n",
       "    <tr>\n",
       "      <th>1229</th>\n",
       "      <td>8700</td>\n",
       "      <td>75</td>\n",
       "      <td>83850</td>\n",
       "      <td>110</td>\n",
       "      <td>1600</td>\n",
       "      <td>3</td>\n",
       "      <td>5</td>\n",
       "      <td>85</td>\n",
       "      <td>1055</td>\n",
       "    </tr>\n",
       "    <tr>\n",
       "      <th>867</th>\n",
       "      <td>9750</td>\n",
       "      <td>66</td>\n",
       "      <td>63328</td>\n",
       "      <td>86</td>\n",
       "      <td>1300</td>\n",
       "      <td>5</td>\n",
       "      <td>5</td>\n",
       "      <td>85</td>\n",
       "      <td>1065</td>\n",
       "    </tr>\n",
       "  </tbody>\n",
       "</table>\n",
       "</div>"
      ],
      "text/plain": [
       "      Price  Age      KM   HP    CC  Doors  Gears  Q_Tax  Weight\n",
       "389    9450   54  138394   69  1900      4      5    185    1095\n",
       "1351   5845   70   60600   86  1300      3      5     85    1060\n",
       "158   19750   17   11999  110  1600      5      5     85    1130\n",
       "945   10250   62   53285  110  1600      5      5     85    1075\n",
       "1229   8700   75   83850  110  1600      3      5     85    1055\n",
       "867    9750   66   63328   86  1300      5      5     85    1065"
      ]
     },
     "execution_count": 14,
     "metadata": {},
     "output_type": "execute_result"
    }
   ],
   "source": [
    "tc=pd.read_csv(\"ToyotaCorolla.csv\",encoding='latin')\n",
    "data=pd.DataFrame()\n",
    "data['Price']=tc['Price']\n",
    "data['Age']=tc['Age_08_04']\n",
    "data['KM']=tc['KM']\n",
    "data['HP']=tc['HP']\n",
    "data['CC']=tc['cc']\n",
    "data['Doors']=tc['Doors']\n",
    "data['Gears']=tc['Gears']\n",
    "data['Q_Tax']=tc['Quarterly_Tax']\n",
    "data['Weight']=tc['Weight']\n",
    "data.sample(6)"
   ]
  },
  {
   "cell_type": "code",
   "execution_count": 17,
   "id": "1d87463b",
   "metadata": {},
   "outputs": [
    {
     "data": {
      "text/plain": [
       "<AxesSubplot:>"
      ]
     },
     "execution_count": 17,
     "metadata": {},
     "output_type": "execute_result"
    },
    {
     "data": {
      "image/png": "[encoded data removed]",
      "text/plain": [
       "<Figure size 432x288 with 2 Axes>"
      ]
     },
     "metadata": {
      "needs_background": "light"
     },
     "output_type": "display_data"
    }
   ],
   "source": [
    "sn.heatmap(data.corr(),annot=True)"
   ]
  },
  {
   "cell_type": "code",
   "execution_count": 25,
   "id": "290160a2",
   "metadata": {},
   "outputs": [
    {
     "data": {
      "text/html": [
       "<table class=\"simpletable\">\n",
       "<caption>OLS Regression Results</caption>\n",
       "<tr>\n",
       "  <th>Dep. Variable:</th>          <td>Price</td>      <th>  R-squared:         </th> <td>   0.864</td> \n",
       "</tr>\n",
       "<tr>\n",
       "  <th>Model:</th>                   <td>OLS</td>       <th>  Adj. R-squared:    </th> <td>   0.863</td> \n",
       "</tr>\n",
       "<tr>\n",
       "  <th>Method:</th>             <td>Least Squares</td>  <th>  F-statistic:       </th> <td>   1131.</td> \n",
       "</tr>\n",
       "<tr>\n",
       "  <th>Date:</th>             <td>Mon, 02 Jan 2023</td> <th>  Prob (F-statistic):</th>  <td>  0.00</td>  \n",
       "</tr>\n",
       "<tr>\n",
       "  <th>Time:</th>                 <td>15:34:40</td>     <th>  Log-Likelihood:    </th> <td> -12376.</td> \n",
       "</tr>\n",
       "<tr>\n",
       "  <th>No. Observations:</th>      <td>  1436</td>      <th>  AIC:               </th> <td>2.477e+04</td>\n",
       "</tr>\n",
       "<tr>\n",
       "  <th>Df Residuals:</th>          <td>  1427</td>      <th>  BIC:               </th> <td>2.482e+04</td>\n",
       "</tr>\n",
       "<tr>\n",
       "  <th>Df Model:</th>              <td>     8</td>      <th>                     </th>     <td> </td>    \n",
       "</tr>\n",
       "<tr>\n",
       "  <th>Covariance Type:</th>      <td>nonrobust</td>    <th>                     </th>     <td> </td>    \n",
       "</tr>\n",
       "</table>\n",
       "<table class=\"simpletable\">\n",
       "<tr>\n",
       "      <td></td>         <th>coef</th>     <th>std err</th>      <th>t</th>      <th>P>|t|</th>  <th>[0.025</th>    <th>0.975]</th>  \n",
       "</tr>\n",
       "<tr>\n",
       "  <th>Intercept</th> <td>-5573.1064</td> <td> 1411.390</td> <td>   -3.949</td> <td> 0.000</td> <td>-8341.728</td> <td>-2804.485</td>\n",
       "</tr>\n",
       "<tr>\n",
       "  <th>Age</th>       <td> -121.6584</td> <td>    2.616</td> <td>  -46.512</td> <td> 0.000</td> <td> -126.789</td> <td> -116.527</td>\n",
       "</tr>\n",
       "<tr>\n",
       "  <th>KM</th>        <td>   -0.0208</td> <td>    0.001</td> <td>  -16.622</td> <td> 0.000</td> <td>   -0.023</td> <td>   -0.018</td>\n",
       "</tr>\n",
       "<tr>\n",
       "  <th>HP</th>        <td>   31.6809</td> <td>    2.818</td> <td>   11.241</td> <td> 0.000</td> <td>   26.152</td> <td>   37.209</td>\n",
       "</tr>\n",
       "<tr>\n",
       "  <th>CC</th>        <td>   -0.1211</td> <td>    0.090</td> <td>   -1.344</td> <td> 0.179</td> <td>   -0.298</td> <td>    0.056</td>\n",
       "</tr>\n",
       "<tr>\n",
       "  <th>Doors</th>     <td>   -1.6166</td> <td>   40.006</td> <td>   -0.040</td> <td> 0.968</td> <td>  -80.093</td> <td>   76.859</td>\n",
       "</tr>\n",
       "<tr>\n",
       "  <th>Gears</th>     <td>  594.3199</td> <td>  197.055</td> <td>    3.016</td> <td> 0.003</td> <td>  207.771</td> <td>  980.869</td>\n",
       "</tr>\n",
       "<tr>\n",
       "  <th>Q_Tax</th>     <td>    3.9491</td> <td>    1.310</td> <td>    3.015</td> <td> 0.003</td> <td>    1.379</td> <td>    6.519</td>\n",
       "</tr>\n",
       "<tr>\n",
       "  <th>Weight</th>    <td>   16.9586</td> <td>    1.068</td> <td>   15.880</td> <td> 0.000</td> <td>   14.864</td> <td>   19.054</td>\n",
       "</tr>\n",
       "</table>\n",
       "<table class=\"simpletable\">\n",
       "<tr>\n",
       "  <th>Omnibus:</th>       <td>151.719</td> <th>  Durbin-Watson:     </th> <td>   1.543</td> \n",
       "</tr>\n",
       "<tr>\n",
       "  <th>Prob(Omnibus):</th> <td> 0.000</td>  <th>  Jarque-Bera (JB):  </th> <td>1011.853</td> \n",
       "</tr>\n",
       "<tr>\n",
       "  <th>Skew:</th>          <td>-0.219</td>  <th>  Prob(JB):          </th> <td>1.90e-220</td>\n",
       "</tr>\n",
       "<tr>\n",
       "  <th>Kurtosis:</th>      <td> 7.089</td>  <th>  Cond. No.          </th> <td>3.13e+06</td> \n",
       "</tr>\n",
       "</table><br/><br/>Notes:<br/>[1] Standard Errors assume that the covariance matrix of the errors is correctly specified.<br/>[2] The condition number is large, 3.13e+06. This might indicate that there are<br/>strong multicollinearity or other numerical problems."
      ],
      "text/plain": [
       "<class 'statsmodels.iolib.summary.Summary'>\n",
       "\"\"\"\n",
       "                            OLS Regression Results                            \n",
       "==============================================================================\n",
       "Dep. Variable:                  Price   R-squared:                       0.864\n",
       "Model:                            OLS   Adj. R-squared:                  0.863\n",
       "Method:                 Least Squares   F-statistic:                     1131.\n",
       "Date:                Mon, 02 Jan 2023   Prob (F-statistic):               0.00\n",
       "Time:                        15:34:40   Log-Likelihood:                -12376.\n",
       "No. Observations:                1436   AIC:                         2.477e+04\n",
       "Df Residuals:                    1427   BIC:                         2.482e+04\n",
       "Df Model:                           8                                         \n",
       "Covariance Type:            nonrobust                                         \n",
       "==============================================================================\n",
       "                 coef    std err          t      P>|t|      [0.025      0.975]\n",
       "------------------------------------------------------------------------------\n",
       "Intercept  -5573.1064   1411.390     -3.949      0.000   -8341.728   -2804.485\n",
       "Age         -121.6584      2.616    -46.512      0.000    -126.789    -116.527\n",
       "KM            -0.0208      0.001    -16.622      0.000      -0.023      -0.018\n",
       "HP            31.6809      2.818     11.241      0.000      26.152      37.209\n",
       "CC            -0.1211      0.090     -1.344      0.179      -0.298       0.056\n",
       "Doors         -1.6166     40.006     -0.040      0.968     -80.093      76.859\n",
       "Gears        594.3199    197.055      3.016      0.003     207.771     980.869\n",
       "Q_Tax          3.9491      1.310      3.015      0.003       1.379       6.519\n",
       "Weight        16.9586      1.068     15.880      0.000      14.864      19.054\n",
       "==============================================================================\n",
       "Omnibus:                      151.719   Durbin-Watson:                   1.543\n",
       "Prob(Omnibus):                  0.000   Jarque-Bera (JB):             1011.853\n",
       "Skew:                          -0.219   Prob(JB):                    1.90e-220\n",
       "Kurtosis:                       7.089   Cond. No.                     3.13e+06\n",
       "==============================================================================\n",
       "\n",
       "Notes:\n",
       "[1] Standard Errors assume that the covariance matrix of the errors is correctly specified.\n",
       "[2] The condition number is large, 3.13e+06. This might indicate that there are\n",
       "strong multicollinearity or other numerical problems.\n",
       "\"\"\""
      ]
     },
     "execution_count": 25,
     "metadata": {},
     "output_type": "execute_result"
    }
   ],
   "source": [
    "basic_model=smf.ols('Price~Age+KM+HP+CC+Doors+Gears+Q_Tax+Weight',data=data).fit()\n",
    "basic_model.summary()"
   ]
  },
  {
   "cell_type": "code",
   "execution_count": 26,
   "id": "0ed79f4d",
   "metadata": {},
   "outputs": [
    {
     "data": {
      "text/plain": [
       "Index(['Price', 'Age', 'KM', 'HP', 'CC', 'Doors', 'Gears', 'Q_Tax', 'Weight'], dtype='object')"
      ]
     },
     "execution_count": 26,
     "metadata": {},
     "output_type": "execute_result"
    }
   ],
   "source": [
    "data.columns"
   ]
  },
  {
   "cell_type": "code",
   "execution_count": 84,
   "id": "75ac0d5c",
   "metadata": {},
   "outputs": [
    {
     "name": "stdout",
     "output_type": "stream",
     "text": [
      "1.8846198056602868 1.8846198056602868 1.7569047782042881 1.163893984942379 1.1565752070760436 1.0987230193470368 2.311430811531038 2.311430811531038 2.516419837445868\n"
     ]
    }
   ],
   "source": [
    "#1St Assumption Features should be independant\n",
    "Price_rsq=smf.ols('Age~KM+HP+CC+Doors+Gears+Q_Tax+Weight',data=data).fit().rsquared\n",
    "Price_vif=1/(1-Price_rsq)\n",
    "KM_rsq=smf.ols('KM~Age+HP+CC+Doors+Gears+Q_Tax+Weight',data=data).fit().rsquared\n",
    "KM_vif=1/(1-Price_rsq)\n",
    "HP_rsq=smf.ols('HP~KM+Age+CC+Doors+Gears+Q_Tax+Weight',data=data).fit().rsquared\n",
    "HP_vif=1/(1-KM_rsq)\n",
    "CC_rsq=smf.ols('CC~KM+HP+Age+Doors+Gears+Q_Tax+Weight',data=data).fit().rsquared\n",
    "CC_vif=1/(1-CC_rsq)\n",
    "Doors_rsq=smf.ols('Doors~KM+HP+CC+Age+Gears+Q_Tax+Weight',data=data).fit().rsquared\n",
    "Doors_vif=1/(1-Doors_rsq)\n",
    "Gears_rsq=smf.ols('Gears~KM+HP+CC+Doors+Age+Q_Tax+Weight',data=data).fit().rsquared\n",
    "Gears_vif=1/(1-Gears_rsq)\n",
    "Q_Tax_rsq=smf.ols('Q_Tax~KM+HP+CC+Doors+Gears+Age+Weight',data=data).fit().rsquared\n",
    "Q_Tax_vif=1/(1-Q_Tax_rsq)\n",
    "Weight_rsq=smf.ols('Weight~KM+HP+CC+Doors+Gears+Q_Tax+Age',data=data).fit().rsquared\n",
    "Weight_vif=1/(1-Weight_rsq)\n",
    "print(Price_vif,KM_vif,HP_vif,CC_vif,Doors_vif,Gears_vif,Q_Tax_vif,Q_Tax_vif,Weight_vif)\n",
    "#As we cans see above there are no features dependant on each other(Threshold<10)"
   ]
  },
  {
   "cell_type": "code",
   "execution_count": 46,
   "id": "b9f77915",
   "metadata": {},
   "outputs": [
    {
     "name": "stdout",
     "output_type": "stream",
     "text": [
      "As we see below, there no correlation between features and Error(Hence they are independant)\n"
     ]
    },
    {
     "data": {
      "image/png": "[encoded data removed]",
      "text/plain": [
       "<Figure size 576x432 with 1 Axes>"
      ]
     },
     "metadata": {},
     "output_type": "display_data"
    }
   ],
   "source": [
    "#2nd Assumption\n",
    "#Error should not be dependent on features, hence all features included in prediction we can calucate error vs prediction\n",
    "error=basic_model.resid\n",
    "y_pred=basic_model.predict()\n",
    "plt.figure(figsize=(8,6),facecolor='yellow',label=\"Toyoto Cars\")\n",
    "plt.scatter(error,y_pred,color='blue')\n",
    "plt.xlabel(\"Prediction(Y^)\")\n",
    "plt.ylabel(\"Error\")\n",
    "print(\"As we see below, there no correlation between features and Error(Hence they are independant)\")"
   ]
  },
  {
   "cell_type": "code",
   "execution_count": 61,
   "id": "f705013c",
   "metadata": {},
   "outputs": [
    {
     "data": {
      "image/png": "[encoded data removed]",
      "text/plain": [
       "<Figure size 432x288 with 1 Axes>"
      ]
     },
     "metadata": {
      "needs_background": "light"
     },
     "output_type": "display_data"
    }
   ],
   "source": [
    "#3Rd Assumption (Error should come form Normal distribution, Mean of that distribution should be zero)\n",
    "plt.title(\"Histogram\")\n",
    "plt.hist(basic_model.resid)\n",
    "plt.show()\n",
    "\n"
   ]
  },
  {
   "cell_type": "code",
   "execution_count": 62,
   "id": "da4bff68",
   "metadata": {},
   "outputs": [
    {
     "data": {
      "image/png": "[encoded data removed]",
      "text/plain": [
       "<Figure size 432x288 with 1 Axes>"
      ]
     },
     "metadata": {
      "needs_background": "light"
     },
     "output_type": "display_data"
    },
    {
     "data": {
      "text/plain": [
       "<function matplotlib.pyplot.show(close=None, block=None)>"
      ]
     },
     "execution_count": 62,
     "metadata": {},
     "output_type": "execute_result"
    }
   ],
   "source": [
    "qqplot=sm.qqplot(basic_model.resid,line='q') # line = 45 to draw the diagnoal line\n",
    "plt.title(\"Normal Q-Q plot of residuals\")\n",
    "plt.show()\n",
    "plt.show"
   ]
  },
  {
   "cell_type": "code",
   "execution_count": 69,
   "id": "a29a81e0",
   "metadata": {},
   "outputs": [
    {
     "name": "stdout",
     "output_type": "stream",
     "text": [
      "0.008356545961002786\n"
     ]
    }
   ],
   "source": [
    "model_influence = basic_model.get_influence()\n",
    "(c, _) = model_influence.cooks_distance\n",
    "K=3\n",
    "N=1436\n",
    "cooks_dist=3*(K+1)/N\n",
    "print(cooks_dist)"
   ]
  },
  {
   "cell_type": "code",
   "execution_count": 67,
   "id": "c4a80427",
   "metadata": {},
   "outputs": [
    {
     "data": {
      "image/png": "[encoded data removed]",
      "text/plain": [
       "<Figure size 1440x504 with 1 Axes>"
      ]
     },
     "metadata": {
      "needs_background": "light"
     },
     "output_type": "display_data"
    }
   ],
   "source": [
    "fig = plt.figure(figsize=(20, 7))\n",
    "plt.stem(np.arange(len(data)), np.round(c, 3))\n",
    "plt.xlabel('Row index')\n",
    "plt.ylabel('Cooks Distance')\n",
    "plt.show()"
   ]
  },
  {
   "cell_type": "code",
   "execution_count": 68,
   "id": "6add3f66",
   "metadata": {},
   "outputs": [
    {
     "data": {
      "text/plain": [
       "(80, 79.52010624138181)"
      ]
     },
     "execution_count": 68,
     "metadata": {},
     "output_type": "execute_result"
    }
   ],
   "source": [
    "(np.argmax(c),np.max(c))"
   ]
  },
  {
   "cell_type": "code",
   "execution_count": 70,
   "id": "e56e3b6f",
   "metadata": {},
   "outputs": [
    {
     "data": {
      "text/plain": [
       "(array([  14,   16,   49,   53,   80,   91,  109,  110,  111,  115,  141,\n",
       "         147,  171,  189,  191,  192,  221,  330,  393,  402,  523,  601,\n",
       "         654,  913,  960,  991, 1058, 1435], dtype=int64),)"
      ]
     },
     "execution_count": 70,
     "metadata": {},
     "output_type": "execute_result"
    }
   ],
   "source": [
    "np.where(c>0.008)"
   ]
  },
  {
   "cell_type": "code",
   "execution_count": 82,
   "id": "c1809db8",
   "metadata": {},
   "outputs": [
    {
     "data": {
      "text/html": [
       "<table class=\"simpletable\">\n",
       "<caption>OLS Regression Results</caption>\n",
       "<tr>\n",
       "  <th>Dep. Variable:</th>          <td>Price</td>      <th>  R-squared:         </th> <td>   0.892</td> \n",
       "</tr>\n",
       "<tr>\n",
       "  <th>Model:</th>                   <td>OLS</td>       <th>  Adj. R-squared:    </th> <td>   0.891</td> \n",
       "</tr>\n",
       "<tr>\n",
       "  <th>Method:</th>             <td>Least Squares</td>  <th>  F-statistic:       </th> <td>   1437.</td> \n",
       "</tr>\n",
       "<tr>\n",
       "  <th>Date:</th>             <td>Mon, 02 Jan 2023</td> <th>  Prob (F-statistic):</th>  <td>  0.00</td>  \n",
       "</tr>\n",
       "<tr>\n",
       "  <th>Time:</th>                 <td>16:34:36</td>     <th>  Log-Likelihood:    </th> <td> -11863.</td> \n",
       "</tr>\n",
       "<tr>\n",
       "  <th>No. Observations:</th>      <td>  1408</td>      <th>  AIC:               </th> <td>2.374e+04</td>\n",
       "</tr>\n",
       "<tr>\n",
       "  <th>Df Residuals:</th>          <td>  1399</td>      <th>  BIC:               </th> <td>2.379e+04</td>\n",
       "</tr>\n",
       "<tr>\n",
       "  <th>Df Model:</th>              <td>     8</td>      <th>                     </th>     <td> </td>    \n",
       "</tr>\n",
       "<tr>\n",
       "  <th>Covariance Type:</th>      <td>nonrobust</td>    <th>                     </th>     <td> </td>    \n",
       "</tr>\n",
       "</table>\n",
       "<table class=\"simpletable\">\n",
       "<tr>\n",
       "      <td></td>         <th>coef</th>     <th>std err</th>      <th>t</th>      <th>P>|t|</th>  <th>[0.025</th>    <th>0.975]</th>  \n",
       "</tr>\n",
       "<tr>\n",
       "  <th>Intercept</th> <td>-1.437e+04</td> <td> 1456.280</td> <td>   -9.867</td> <td> 0.000</td> <td>-1.72e+04</td> <td>-1.15e+04</td>\n",
       "</tr>\n",
       "<tr>\n",
       "  <th>Age</th>       <td> -111.0090</td> <td>    2.323</td> <td>  -47.795</td> <td> 0.000</td> <td> -115.565</td> <td> -106.453</td>\n",
       "</tr>\n",
       "<tr>\n",
       "  <th>KM</th>        <td>   -0.0171</td> <td>    0.001</td> <td>  -15.437</td> <td> 0.000</td> <td>   -0.019</td> <td>   -0.015</td>\n",
       "</tr>\n",
       "<tr>\n",
       "  <th>HP</th>        <td>   25.9219</td> <td>    2.766</td> <td>    9.370</td> <td> 0.000</td> <td>   20.495</td> <td>   31.349</td>\n",
       "</tr>\n",
       "<tr>\n",
       "  <th>CC</th>        <td>   -3.0894</td> <td>    0.292</td> <td>  -10.593</td> <td> 0.000</td> <td>   -3.661</td> <td>   -2.517</td>\n",
       "</tr>\n",
       "<tr>\n",
       "  <th>Doors</th>     <td> -118.6290</td> <td>   34.926</td> <td>   -3.397</td> <td> 0.001</td> <td> -187.141</td> <td>  -50.117</td>\n",
       "</tr>\n",
       "<tr>\n",
       "  <th>Gears</th>     <td>  344.7916</td> <td>  177.672</td> <td>    1.941</td> <td> 0.053</td> <td>   -3.740</td> <td>  693.323</td>\n",
       "</tr>\n",
       "<tr>\n",
       "  <th>Q_Tax</th>     <td>    0.5098</td> <td>    1.345</td> <td>    0.379</td> <td> 0.705</td> <td>   -2.128</td> <td>    3.148</td>\n",
       "</tr>\n",
       "<tr>\n",
       "  <th>Weight</th>    <td>   31.1552</td> <td>    1.356</td> <td>   22.975</td> <td> 0.000</td> <td>   28.495</td> <td>   33.815</td>\n",
       "</tr>\n",
       "</table>\n",
       "<table class=\"simpletable\">\n",
       "<tr>\n",
       "  <th>Omnibus:</th>       <td>13.385</td> <th>  Durbin-Watson:     </th> <td>   1.771</td>\n",
       "</tr>\n",
       "<tr>\n",
       "  <th>Prob(Omnibus):</th> <td> 0.001</td> <th>  Jarque-Bera (JB):  </th> <td>  15.005</td>\n",
       "</tr>\n",
       "<tr>\n",
       "  <th>Skew:</th>          <td> 0.175</td> <th>  Prob(JB):          </th> <td>0.000552</td>\n",
       "</tr>\n",
       "<tr>\n",
       "  <th>Kurtosis:</th>      <td> 3.365</td> <th>  Cond. No.          </th> <td>3.86e+06</td>\n",
       "</tr>\n",
       "</table><br/><br/>Notes:<br/>[1] Standard Errors assume that the covariance matrix of the errors is correctly specified.<br/>[2] The condition number is large, 3.86e+06. This might indicate that there are<br/>strong multicollinearity or other numerical problems."
      ],
      "text/plain": [
       "<class 'statsmodels.iolib.summary.Summary'>\n",
       "\"\"\"\n",
       "                            OLS Regression Results                            \n",
       "==============================================================================\n",
       "Dep. Variable:                  Price   R-squared:                       0.892\n",
       "Model:                            OLS   Adj. R-squared:                  0.891\n",
       "Method:                 Least Squares   F-statistic:                     1437.\n",
       "Date:                Mon, 02 Jan 2023   Prob (F-statistic):               0.00\n",
       "Time:                        16:34:36   Log-Likelihood:                -11863.\n",
       "No. Observations:                1408   AIC:                         2.374e+04\n",
       "Df Residuals:                    1399   BIC:                         2.379e+04\n",
       "Df Model:                           8                                         \n",
       "Covariance Type:            nonrobust                                         \n",
       "==============================================================================\n",
       "                 coef    std err          t      P>|t|      [0.025      0.975]\n",
       "------------------------------------------------------------------------------\n",
       "Intercept  -1.437e+04   1456.280     -9.867      0.000   -1.72e+04   -1.15e+04\n",
       "Age         -111.0090      2.323    -47.795      0.000    -115.565    -106.453\n",
       "KM            -0.0171      0.001    -15.437      0.000      -0.019      -0.015\n",
       "HP            25.9219      2.766      9.370      0.000      20.495      31.349\n",
       "CC            -3.0894      0.292    -10.593      0.000      -3.661      -2.517\n",
       "Doors       -118.6290     34.926     -3.397      0.001    -187.141     -50.117\n",
       "Gears        344.7916    177.672      1.941      0.053      -3.740     693.323\n",
       "Q_Tax          0.5098      1.345      0.379      0.705      -2.128       3.148\n",
       "Weight        31.1552      1.356     22.975      0.000      28.495      33.815\n",
       "==============================================================================\n",
       "Omnibus:                       13.385   Durbin-Watson:                   1.771\n",
       "Prob(Omnibus):                  0.001   Jarque-Bera (JB):               15.005\n",
       "Skew:                           0.175   Prob(JB):                     0.000552\n",
       "Kurtosis:                       3.365   Cond. No.                     3.86e+06\n",
       "==============================================================================\n",
       "\n",
       "Notes:\n",
       "[1] Standard Errors assume that the covariance matrix of the errors is correctly specified.\n",
       "[2] The condition number is large, 3.86e+06. This might indicate that there are\n",
       "strong multicollinearity or other numerical problems.\n",
       "\"\"\""
      ]
     },
     "execution_count": 82,
     "metadata": {},
     "output_type": "execute_result"
    }
   ],
   "source": [
    "data1=data\n",
    "data1=data.drop(data1.index[[14,16,49,53,80,91,109,110,111,115,141,147,171,189,191,192,221,330,393,402,523,601,654,913,960,\n",
    "                             991,1058,1435]],axis=0).reset_index()\n",
    "data1=data1.drop(['index'],axis=1)\n",
    "model1=smf.ols('Price~Age+KM+HP+CC+Doors+Gears+Q_Tax+Weight',data=data1).fit()\n",
    "model1.summary()"
   ]
  },
  {
   "cell_type": "code",
   "execution_count": 75,
   "id": "16c42cfc",
   "metadata": {},
   "outputs": [
    {
     "data": {
      "image/png": "[encoded data removed]",
      "text/plain": [
       "<Figure size 432x288 with 1 Axes>"
      ]
     },
     "metadata": {
      "needs_background": "light"
     },
     "output_type": "display_data"
    }
   ],
   "source": [
    "plt.title(\"Histogram\")\n",
    "plt.hist(model1.resid)\n",
    "plt.show()"
   ]
  },
  {
   "cell_type": "code",
   "execution_count": 76,
   "id": "420b33ea",
   "metadata": {},
   "outputs": [
    {
     "data": {
      "image/png": "[encoded data removed]",
      "text/plain": [
       "<Figure size 432x288 with 1 Axes>"
      ]
     },
     "metadata": {
      "needs_background": "light"
     },
     "output_type": "display_data"
    },
    {
     "data": {
      "text/plain": [
       "<function matplotlib.pyplot.show(close=None, block=None)>"
      ]
     },
     "execution_count": 76,
     "metadata": {},
     "output_type": "execute_result"
    }
   ],
   "source": [
    "qqplot=sm.qqplot(model1.resid,line='q') # line = 45 to draw the diagnoal line\n",
    "plt.title(\"Normal Q-Q plot of residuals\")\n",
    "plt.show()\n",
    "plt.show"
   ]
  },
  {
   "cell_type": "code",
   "execution_count": 77,
   "id": "bb7a1d65",
   "metadata": {},
   "outputs": [
    {
     "data": {
      "image/png": "[encoded data removed]",
      "text/plain": [
       "<Figure size 432x288 with 1 Axes>"
      ]
     },
     "metadata": {
      "needs_background": "light"
     },
     "output_type": "display_data"
    }
   ],
   "source": [
    "#4th Assumption (Homoscadasticity)\n",
    "def get_standardized_values( val ):\n",
    "    return (val - val.mean())/val.std()\n",
    "\n",
    "plt.scatter(get_standardized_values(model1.fittedvalues),\n",
    "            get_standardized_values(model1.resid))\n",
    "\n",
    "plt.title('Residual Plot')\n",
    "plt.xlabel('Standardized Fitted values')\n",
    "plt.ylabel('Standardized residual values')\n",
    "plt.show()\n",
    "#There is no patter is visable from the data(hence there is no Heteroscadasticty)"
   ]
  },
  {
   "cell_type": "markdown",
   "id": "9cb31a63",
   "metadata": {},
   "source": [
    "# Final Model"
   ]
  },
  {
   "cell_type": "code",
   "execution_count": 83,
   "id": "f212bd74",
   "metadata": {},
   "outputs": [
    {
     "data": {
      "text/html": [
       "<table class=\"simpletable\">\n",
       "<caption>OLS Regression Results</caption>\n",
       "<tr>\n",
       "  <th>Dep. Variable:</th>          <td>Price</td>      <th>  R-squared:         </th> <td>   0.892</td> \n",
       "</tr>\n",
       "<tr>\n",
       "  <th>Model:</th>                   <td>OLS</td>       <th>  Adj. R-squared:    </th> <td>   0.891</td> \n",
       "</tr>\n",
       "<tr>\n",
       "  <th>Method:</th>             <td>Least Squares</td>  <th>  F-statistic:       </th> <td>   1437.</td> \n",
       "</tr>\n",
       "<tr>\n",
       "  <th>Date:</th>             <td>Mon, 02 Jan 2023</td> <th>  Prob (F-statistic):</th>  <td>  0.00</td>  \n",
       "</tr>\n",
       "<tr>\n",
       "  <th>Time:</th>                 <td>16:37:55</td>     <th>  Log-Likelihood:    </th> <td> -11863.</td> \n",
       "</tr>\n",
       "<tr>\n",
       "  <th>No. Observations:</th>      <td>  1408</td>      <th>  AIC:               </th> <td>2.374e+04</td>\n",
       "</tr>\n",
       "<tr>\n",
       "  <th>Df Residuals:</th>          <td>  1399</td>      <th>  BIC:               </th> <td>2.379e+04</td>\n",
       "</tr>\n",
       "<tr>\n",
       "  <th>Df Model:</th>              <td>     8</td>      <th>                     </th>     <td> </td>    \n",
       "</tr>\n",
       "<tr>\n",
       "  <th>Covariance Type:</th>      <td>nonrobust</td>    <th>                     </th>     <td> </td>    \n",
       "</tr>\n",
       "</table>\n",
       "<table class=\"simpletable\">\n",
       "<tr>\n",
       "      <td></td>         <th>coef</th>     <th>std err</th>      <th>t</th>      <th>P>|t|</th>  <th>[0.025</th>    <th>0.975]</th>  \n",
       "</tr>\n",
       "<tr>\n",
       "  <th>Intercept</th> <td>-1.437e+04</td> <td> 1456.280</td> <td>   -9.867</td> <td> 0.000</td> <td>-1.72e+04</td> <td>-1.15e+04</td>\n",
       "</tr>\n",
       "<tr>\n",
       "  <th>Age</th>       <td> -111.0090</td> <td>    2.323</td> <td>  -47.795</td> <td> 0.000</td> <td> -115.565</td> <td> -106.453</td>\n",
       "</tr>\n",
       "<tr>\n",
       "  <th>KM</th>        <td>   -0.0171</td> <td>    0.001</td> <td>  -15.437</td> <td> 0.000</td> <td>   -0.019</td> <td>   -0.015</td>\n",
       "</tr>\n",
       "<tr>\n",
       "  <th>HP</th>        <td>   25.9219</td> <td>    2.766</td> <td>    9.370</td> <td> 0.000</td> <td>   20.495</td> <td>   31.349</td>\n",
       "</tr>\n",
       "<tr>\n",
       "  <th>CC</th>        <td>   -3.0894</td> <td>    0.292</td> <td>  -10.593</td> <td> 0.000</td> <td>   -3.661</td> <td>   -2.517</td>\n",
       "</tr>\n",
       "<tr>\n",
       "  <th>Doors</th>     <td> -118.6290</td> <td>   34.926</td> <td>   -3.397</td> <td> 0.001</td> <td> -187.141</td> <td>  -50.117</td>\n",
       "</tr>\n",
       "<tr>\n",
       "  <th>Gears</th>     <td>  344.7916</td> <td>  177.672</td> <td>    1.941</td> <td> 0.053</td> <td>   -3.740</td> <td>  693.323</td>\n",
       "</tr>\n",
       "<tr>\n",
       "  <th>Q_Tax</th>     <td>    0.5098</td> <td>    1.345</td> <td>    0.379</td> <td> 0.705</td> <td>   -2.128</td> <td>    3.148</td>\n",
       "</tr>\n",
       "<tr>\n",
       "  <th>Weight</th>    <td>   31.1552</td> <td>    1.356</td> <td>   22.975</td> <td> 0.000</td> <td>   28.495</td> <td>   33.815</td>\n",
       "</tr>\n",
       "</table>\n",
       "<table class=\"simpletable\">\n",
       "<tr>\n",
       "  <th>Omnibus:</th>       <td>13.385</td> <th>  Durbin-Watson:     </th> <td>   1.771</td>\n",
       "</tr>\n",
       "<tr>\n",
       "  <th>Prob(Omnibus):</th> <td> 0.001</td> <th>  Jarque-Bera (JB):  </th> <td>  15.005</td>\n",
       "</tr>\n",
       "<tr>\n",
       "  <th>Skew:</th>          <td> 0.175</td> <th>  Prob(JB):          </th> <td>0.000552</td>\n",
       "</tr>\n",
       "<tr>\n",
       "  <th>Kurtosis:</th>      <td> 3.365</td> <th>  Cond. No.          </th> <td>3.86e+06</td>\n",
       "</tr>\n",
       "</table><br/><br/>Notes:<br/>[1] Standard Errors assume that the covariance matrix of the errors is correctly specified.<br/>[2] The condition number is large, 3.86e+06. This might indicate that there are<br/>strong multicollinearity or other numerical problems."
      ],
      "text/plain": [
       "<class 'statsmodels.iolib.summary.Summary'>\n",
       "\"\"\"\n",
       "                            OLS Regression Results                            \n",
       "==============================================================================\n",
       "Dep. Variable:                  Price   R-squared:                       0.892\n",
       "Model:                            OLS   Adj. R-squared:                  0.891\n",
       "Method:                 Least Squares   F-statistic:                     1437.\n",
       "Date:                Mon, 02 Jan 2023   Prob (F-statistic):               0.00\n",
       "Time:                        16:37:55   Log-Likelihood:                -11863.\n",
       "No. Observations:                1408   AIC:                         2.374e+04\n",
       "Df Residuals:                    1399   BIC:                         2.379e+04\n",
       "Df Model:                           8                                         \n",
       "Covariance Type:            nonrobust                                         \n",
       "==============================================================================\n",
       "                 coef    std err          t      P>|t|      [0.025      0.975]\n",
       "------------------------------------------------------------------------------\n",
       "Intercept  -1.437e+04   1456.280     -9.867      0.000   -1.72e+04   -1.15e+04\n",
       "Age         -111.0090      2.323    -47.795      0.000    -115.565    -106.453\n",
       "KM            -0.0171      0.001    -15.437      0.000      -0.019      -0.015\n",
       "HP            25.9219      2.766      9.370      0.000      20.495      31.349\n",
       "CC            -3.0894      0.292    -10.593      0.000      -3.661      -2.517\n",
       "Doors       -118.6290     34.926     -3.397      0.001    -187.141     -50.117\n",
       "Gears        344.7916    177.672      1.941      0.053      -3.740     693.323\n",
       "Q_Tax          0.5098      1.345      0.379      0.705      -2.128       3.148\n",
       "Weight        31.1552      1.356     22.975      0.000      28.495      33.815\n",
       "==============================================================================\n",
       "Omnibus:                       13.385   Durbin-Watson:                   1.771\n",
       "Prob(Omnibus):                  0.001   Jarque-Bera (JB):               15.005\n",
       "Skew:                           0.175   Prob(JB):                     0.000552\n",
       "Kurtosis:                       3.365   Cond. No.                     3.86e+06\n",
       "==============================================================================\n",
       "\n",
       "Notes:\n",
       "[1] Standard Errors assume that the covariance matrix of the errors is correctly specified.\n",
       "[2] The condition number is large, 3.86e+06. This might indicate that there are\n",
       "strong multicollinearity or other numerical problems.\n",
       "\"\"\""
      ]
     },
     "execution_count": 83,
     "metadata": {},
     "output_type": "execute_result"
    }
   ],
   "source": [
    "final_model=smf.ols('Price~Age+KM+HP+CC+Doors+Gears+Q_Tax+Weight',data=data1).fit()\n",
    "final_model.summary()"
   ]
  },
  {
   "cell_type": "code",
   "execution_count": null,
   "id": "9efe379d",
   "metadata": {},
   "outputs": [],
   "source": []
  },
  {
   "cell_type": "code",
   "execution_count": null,
   "id": "ea40593a",
   "metadata": {},
   "outputs": [],
   "source": []
  }
 ],
 "metadata": {
  "kernelspec": {
   "display_name": "Python 3 (ipykernel)",
   "language": "python",
   "name": "python3"
  },
  "language_info": {
   "codemirror_mode": {
    "name": "ipython",
    "version": 3
   },
   "file_extension": ".py",
   "mimetype": "text/x-python",
   "name": "python",
   "nbconvert_exporter": "python",
   "pygments_lexer": "ipython3",
   "version": "3.9.12"
  }
 },
 "nbformat": 4,
 "nbformat_minor": 5
}
