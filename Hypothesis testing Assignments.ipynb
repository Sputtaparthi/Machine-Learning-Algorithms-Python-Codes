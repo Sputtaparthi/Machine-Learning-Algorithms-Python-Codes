{
 "cells": [
  {
   "cell_type": "markdown",
   "id": "8dd89e10",
   "metadata": {},
   "source": [
    "Q1)A F&B manager wants to determine whether there is any significant difference in the diameter of the cutlet between two \n",
    "units. A randomly selected sample of cutlets was collected from both units and measured? Analyze the data and draw\n",
    "inferences at 5% significance level. Please state the assumptions and tests that you carried out to check validity of the \n",
    "assumptions.\n"
   ]
  },
  {
   "cell_type": "code",
   "execution_count": 8,
   "id": "72dd3152",
   "metadata": {},
   "outputs": [],
   "source": [
    "import pandas as pd\n",
    "import numpy as np\n",
    "import statsmodels.api as sm\n",
    "import matplotlib.pyplot as plt\n",
    "import statistics as st\n",
    "import scipy.stats as stats\n",
    "import statsmodels.api as sm"
   ]
  },
  {
   "cell_type": "code",
   "execution_count": 3,
   "id": "e7d2417d",
   "metadata": {},
   "outputs": [
    {
     "data": {
      "text/html": [
       "<div>\n",
       "<style scoped>\n",
       "    .dataframe tbody tr th:only-of-type {\n",
       "        vertical-align: middle;\n",
       "    }\n",
       "\n",
       "    .dataframe tbody tr th {\n",
       "        vertical-align: top;\n",
       "    }\n",
       "\n",
       "    .dataframe thead th {\n",
       "        text-align: right;\n",
       "    }\n",
       "</style>\n",
       "<table border=\"1\" class=\"dataframe\">\n",
       "  <thead>\n",
       "    <tr style=\"text-align: right;\">\n",
       "      <th></th>\n",
       "      <th>Unit A</th>\n",
       "      <th>Unit B</th>\n",
       "    </tr>\n",
       "  </thead>\n",
       "  <tbody>\n",
       "    <tr>\n",
       "      <th>24</th>\n",
       "      <td>6.9952</td>\n",
       "      <td>6.7594</td>\n",
       "    </tr>\n",
       "    <tr>\n",
       "      <th>28</th>\n",
       "      <td>6.9431</td>\n",
       "      <td>6.3346</td>\n",
       "    </tr>\n",
       "    <tr>\n",
       "      <th>19</th>\n",
       "      <td>7.3495</td>\n",
       "      <td>6.7478</td>\n",
       "    </tr>\n",
       "    <tr>\n",
       "      <th>22</th>\n",
       "      <td>6.5341</td>\n",
       "      <td>6.5217</td>\n",
       "    </tr>\n",
       "    <tr>\n",
       "      <th>0</th>\n",
       "      <td>6.8090</td>\n",
       "      <td>6.7703</td>\n",
       "    </tr>\n",
       "    <tr>\n",
       "      <th>3</th>\n",
       "      <td>7.3012</td>\n",
       "      <td>6.7878</td>\n",
       "    </tr>\n",
       "  </tbody>\n",
       "</table>\n",
       "</div>"
      ],
      "text/plain": [
       "    Unit A  Unit B\n",
       "24  6.9952  6.7594\n",
       "28  6.9431  6.3346\n",
       "19  7.3495  6.7478\n",
       "22  6.5341  6.5217\n",
       "0   6.8090  6.7703\n",
       "3   7.3012  6.7878"
      ]
     },
     "execution_count": 3,
     "metadata": {},
     "output_type": "execute_result"
    }
   ],
   "source": [
    "cutlet=pd.read_csv(\"Cutlets.csv\")\n",
    "cutlet.sample(6)"
   ]
  },
  {
   "cell_type": "code",
   "execution_count": null,
   "id": "fa656962",
   "metadata": {},
   "outputs": [],
   "source": [
    "=> We are going to conduct a 2 tailed t-Test on 2 Independent samples with Numerical Data\n",
    "=> We need to check whether the mean of both samples are different and \n",
    "    Is there any significance difference between the two samples?\n",
    "Step 1 :Make two Hypothesis one contradicting to other\n",
    "        Null Hypothesis is want we want to prove\n",
    "        Null Hypothesis: mu1=mu2\n",
    "        Alternative Hypthosis: mu1!=mu2\n",
    "Step 2: Decide a cut-off value\n",
    "        Significance 5%\n",
    "        alpha = 0.05\n",
    "        As it is twotailes test alpha/2=0.025"
   ]
  },
  {
   "cell_type": "code",
   "execution_count": 6,
   "id": "26c01be2",
   "metadata": {},
   "outputs": [
    {
     "data": {
      "image/png": "[encoded data removed]",
      "text/plain": [
       "<Figure size 432x288 with 1 Axes>"
      ]
     },
     "metadata": {
      "needs_background": "light"
     },
     "output_type": "display_data"
    },
    {
     "data": {
      "image/png": "[encoded data removed]",
      "text/plain": [
       "<Figure size 432x288 with 1 Axes>"
      ]
     },
     "metadata": {
      "needs_background": "light"
     },
     "output_type": "display_data"
    }
   ],
   "source": [
    "#Platting the q-q plat to check if the data follows normal distribution\n",
    "sm.qqplot(cutlet['Unit A'],line='q')\n",
    "plt.title(\"Unit A\")\n",
    "sm.qqplot(cutlet['Unit B'],line='q')\n",
    "plt.title(\"Unit B\")\n",
    "plt.show()"
   ]
  },
  {
   "cell_type": "code",
   "execution_count": 17,
   "id": "33ae86d4",
   "metadata": {},
   "outputs": [
    {
     "name": "stdout",
     "output_type": "stream",
     "text": [
      "P_Value :  0.47\n"
     ]
    }
   ],
   "source": [
    "# By usnig T-Statistics compare evidance with hypothesis\n",
    "st,p_value=stats.ttest_ind(cutlet['Unit A'],cutlet['Unit B'],alternative='two-sided')\n",
    "print(\"P_Value : \",round(p_value,2))"
   ]
  },
  {
   "cell_type": "code",
   "execution_count": 19,
   "id": "8426f00c",
   "metadata": {},
   "outputs": [
    {
     "name": "stdout",
     "output_type": "stream",
     "text": [
      "Significnace=0.025, p=0.472\n",
      "We fail to reject Null hypothesis\n"
     ]
    }
   ],
   "source": [
    "#Compare p_value with ' '(Significane Level)\n",
    "alpha=0.025\n",
    "print('Significnace=%.3f, p=%.3f' % (alpha, p_value))\n",
    "if p_value<=alpha:\n",
    "    print('We reject Null Hypothesis there is a significance difference between two Units A and B')\n",
    "else:\n",
    "    print('We fail to reject Null hypothesis')\n",
    "    \n",
    "Hence, We fail to reject Null Hypothesis because of lack of evidence, \n",
    "there is no significant difference between the two samples"
   ]
  },
  {
   "cell_type": "markdown",
   "id": "0acd3a3c",
   "metadata": {},
   "source": [
    "# Q2"
   ]
  },
  {
   "cell_type": "markdown",
   "id": "83b29d83",
   "metadata": {},
   "source": [
    " \n",
    "\n",
    "Q2)A hospital wants to determine whether there is any difference in the average Turn Around Time (TAT) of reports of the \n",
    "laboratories on their preferred list. They collected a random sample and recorded TAT for reports of 4 laboratories. \n",
    "TAT is defined as sample collected to report dispatch.\n",
    "Analyze the data and determine whether there is any difference in average TAT among the different laboratories at 5% \n",
    "significance level.\n",
    " \n"
   ]
  },
  {
   "cell_type": "code",
   "execution_count": null,
   "id": "2bc986de",
   "metadata": {},
   "outputs": [],
   "source": [
    "Make two Hypothesis one contradicting to other\n",
    "Null Hypothesis is want we want to prove\n",
    "Null Hypothesis:  mu1=mu2=mu3=mu4\n",
    "Alternative Hypthosis: Atleast One of them is Differente\n",
    "\n",
    "Decide a cut-off value\n",
    "Significance 5%\n",
    "alpha = 0.05"
   ]
  },
  {
   "cell_type": "code",
   "execution_count": 43,
   "id": "432ed27e",
   "metadata": {},
   "outputs": [],
   "source": [
    "import pandas as pd\n",
    "import numpy as np\n",
    "import statsmodels.api as sm\n",
    "import matplotlib.pyplot as plt\n",
    "import statistics as st\n",
    "import scipy.stats as stats\n",
    "import statsmodels.api as sm"
   ]
  },
  {
   "cell_type": "code",
   "execution_count": 47,
   "id": "4a7682a4",
   "metadata": {},
   "outputs": [
    {
     "data": {
      "text/html": [
       "<div>\n",
       "<style scoped>\n",
       "    .dataframe tbody tr th:only-of-type {\n",
       "        vertical-align: middle;\n",
       "    }\n",
       "\n",
       "    .dataframe tbody tr th {\n",
       "        vertical-align: top;\n",
       "    }\n",
       "\n",
       "    .dataframe thead th {\n",
       "        text-align: right;\n",
       "    }\n",
       "</style>\n",
       "<table border=\"1\" class=\"dataframe\">\n",
       "  <thead>\n",
       "    <tr style=\"text-align: right;\">\n",
       "      <th></th>\n",
       "      <th>Laboratory 1</th>\n",
       "      <th>Laboratory 2</th>\n",
       "      <th>Laboratory 3</th>\n",
       "      <th>Laboratory 4</th>\n",
       "    </tr>\n",
       "  </thead>\n",
       "  <tbody>\n",
       "    <tr>\n",
       "      <th>0</th>\n",
       "      <td>185.35</td>\n",
       "      <td>165.53</td>\n",
       "      <td>176.70</td>\n",
       "      <td>166.13</td>\n",
       "    </tr>\n",
       "    <tr>\n",
       "      <th>43</th>\n",
       "      <td>166.33</td>\n",
       "      <td>197.68</td>\n",
       "      <td>225.42</td>\n",
       "      <td>161.96</td>\n",
       "    </tr>\n",
       "    <tr>\n",
       "      <th>112</th>\n",
       "      <td>201.11</td>\n",
       "      <td>195.07</td>\n",
       "      <td>203.05</td>\n",
       "      <td>160.98</td>\n",
       "    </tr>\n",
       "    <tr>\n",
       "      <th>44</th>\n",
       "      <td>173.88</td>\n",
       "      <td>156.89</td>\n",
       "      <td>175.13</td>\n",
       "      <td>168.14</td>\n",
       "    </tr>\n",
       "    <tr>\n",
       "      <th>32</th>\n",
       "      <td>172.93</td>\n",
       "      <td>173.54</td>\n",
       "      <td>198.68</td>\n",
       "      <td>198.69</td>\n",
       "    </tr>\n",
       "    <tr>\n",
       "      <th>119</th>\n",
       "      <td>182.09</td>\n",
       "      <td>215.17</td>\n",
       "      <td>221.49</td>\n",
       "      <td>162.21</td>\n",
       "    </tr>\n",
       "  </tbody>\n",
       "</table>\n",
       "</div>"
      ],
      "text/plain": [
       "     Laboratory 1  Laboratory 2  Laboratory 3  Laboratory 4\n",
       "0          185.35        165.53        176.70        166.13\n",
       "43         166.33        197.68        225.42        161.96\n",
       "112        201.11        195.07        203.05        160.98\n",
       "44         173.88        156.89        175.13        168.14\n",
       "32         172.93        173.54        198.68        198.69\n",
       "119        182.09        215.17        221.49        162.21"
      ]
     },
     "execution_count": 47,
     "metadata": {},
     "output_type": "execute_result"
    }
   ],
   "source": [
    "lab_data=pd.read_csv('LabTAT.csv')\n",
    "lab_data.sample(6)"
   ]
  },
  {
   "cell_type": "code",
   "execution_count": 48,
   "id": "747025b3",
   "metadata": {},
   "outputs": [
    {
     "data": {
      "image/png": "[encoded data removed]",
      "text/plain": [
       "<Figure size 432x288 with 1 Axes>"
      ]
     },
     "metadata": {
      "needs_background": "light"
     },
     "output_type": "display_data"
    },
    {
     "data": {
      "image/png": "[encoded data removed]",
      "text/plain": [
       "<Figure size 432x288 with 1 Axes>"
      ]
     },
     "metadata": {
      "needs_background": "light"
     },
     "output_type": "display_data"
    },
    {
     "data": {
      "image/png": "[encoded data removed]",
      "text/plain": [
       "<Figure size 432x288 with 1 Axes>"
      ]
     },
     "metadata": {
      "needs_background": "light"
     },
     "output_type": "display_data"
    },
    {
     "data": {
      "image/png": "[encoded data removed]",
      "text/plain": [
       "<Figure size 432x288 with 1 Axes>"
      ]
     },
     "metadata": {
      "needs_background": "light"
     },
     "output_type": "display_data"
    }
   ],
   "source": [
    "#Checking the data if normally distrubetd\n",
    "sm.qqplot(lab_data['Laboratory 1'], line = 'q')\n",
    "plt.title('Laboratory 1')\n",
    "sm.qqplot(lab_data['Laboratory 2'], line = 'q')\n",
    "plt.title('Laboratory 2')\n",
    "sm.qqplot(lab_data['Laboratory 3'], line = 'q')\n",
    "plt.title('Laboratory 3')\n",
    "sm.qqplot(lab_data['Laboratory 4'], line = 'q')\n",
    "plt.title('Laboratory 4')\n",
    "plt.show()"
   ]
  },
  {
   "cell_type": "code",
   "execution_count": 51,
   "id": "69250325",
   "metadata": {},
   "outputs": [
    {
     "name": "stdout",
     "output_type": "stream",
     "text": [
      "p_value = 2.1156708949992414e-57\n"
     ]
    }
   ],
   "source": [
    "#Compare Evidences with Hypothesis using t-statictic\n",
    "test_stats , p_value = stats.f_oneway(lab_data.iloc[:,0],lab_data.iloc[:,1],lab_data.iloc[:,2],lab_data.iloc[:,3])\n",
    "print('p_value =',p_value)"
   ]
  },
  {
   "cell_type": "code",
   "execution_count": 52,
   "id": "adffc394",
   "metadata": {},
   "outputs": [
    {
     "name": "stdout",
     "output_type": "stream",
     "text": [
      "Significnace=0.050, p=0.000\n",
      "We reject Null Hypothesis there is a significance difference between TAT of reports of the laboratories\n"
     ]
    }
   ],
   "source": [
    "alpha = 0.05\n",
    "print('Significnace=%.3f, p=%.3f' % (alpha, p_value))\n",
    "if p_value <= alpha:\n",
    "    print('We reject Null Hypothesis there is a significance difference between TAT of reports of the laboratories')\n",
    "else:\n",
    "    print('We fail to reject Null hypothesis')"
   ]
  },
  {
   "cell_type": "markdown",
   "id": "1cf32b27",
   "metadata": {},
   "source": [
    "# Q3)"
   ]
  },
  {
   "cell_type": "code",
   "execution_count": 83,
   "id": "0609f1d0",
   "metadata": {},
   "outputs": [
    {
     "data": {
      "image/png": "[encoded data removed]",
      "text/plain": [
       "<Figure size 432x288 with 1 Axes>"
      ]
     },
     "metadata": {
      "needs_background": "light"
     },
     "output_type": "display_data"
    }
   ],
   "source": [
    "from PIL import Image\n",
    "img= Image.open(\"Hypothesis_prob3.png\")\n",
    "type(img)\n",
    "plt.imshow(img)\n",
    "plt.show()"
   ]
  },
  {
   "cell_type": "code",
   "execution_count": null,
   "id": "b76b3da0",
   "metadata": {},
   "outputs": [],
   "source": [
    "Make two Hypothesis one contradicting to other\n",
    "Null Hypothesis is want we want to prove\n",
    "Null Hypothesis: \n",
    "                There is no association or dependency between the gender based buyer rations across regions\n",
    "Alternative Hypthosis:\n",
    "    There is a significant association or dependency between the gender based buyer rations across regions\n",
    "Decide a cut-off value\n",
    "Significance 5%\n",
    "alpha = 0.05\n",
    "As it is a one-tailed test\n",
    "alpha = 1-0.95 = 0.05"
   ]
  },
  {
   "cell_type": "code",
   "execution_count": 112,
   "id": "4710c2b8",
   "metadata": {},
   "outputs": [],
   "source": [
    "import numpy as np\n",
    "import pandas as pd\n",
    "import scipy.stats as stats\n",
    "from scipy.stats import chi2_contingency"
   ]
  },
  {
   "cell_type": "code",
   "execution_count": 113,
   "id": "d12f63b2",
   "metadata": {},
   "outputs": [
    {
     "data": {
      "text/html": [
       "<div>\n",
       "<style scoped>\n",
       "    .dataframe tbody tr th:only-of-type {\n",
       "        vertical-align: middle;\n",
       "    }\n",
       "\n",
       "    .dataframe tbody tr th {\n",
       "        vertical-align: top;\n",
       "    }\n",
       "\n",
       "    .dataframe thead th {\n",
       "        text-align: right;\n",
       "    }\n",
       "</style>\n",
       "<table border=\"1\" class=\"dataframe\">\n",
       "  <thead>\n",
       "    <tr style=\"text-align: right;\">\n",
       "      <th></th>\n",
       "      <th>East</th>\n",
       "      <th>West</th>\n",
       "      <th>North</th>\n",
       "      <th>South</th>\n",
       "    </tr>\n",
       "  </thead>\n",
       "  <tbody>\n",
       "    <tr>\n",
       "      <th>0</th>\n",
       "      <td>50</td>\n",
       "      <td>142</td>\n",
       "      <td>131</td>\n",
       "      <td>70</td>\n",
       "    </tr>\n",
       "    <tr>\n",
       "      <th>1</th>\n",
       "      <td>435</td>\n",
       "      <td>1523</td>\n",
       "      <td>1356</td>\n",
       "      <td>750</td>\n",
       "    </tr>\n",
       "  </tbody>\n",
       "</table>\n",
       "</div>"
      ],
      "text/plain": [
       "   East  West  North  South\n",
       "0    50   142    131     70\n",
       "1   435  1523   1356    750"
      ]
     },
     "execution_count": 113,
     "metadata": {},
     "output_type": "execute_result"
    }
   ],
   "source": [
    "cust=pd.read_csv(\"BuyerRatio.csv\")\n",
    "cust.drop([\"Observed Values\"], axis = 1, inplace = True)\n",
    "cust"
   ]
  },
  {
   "cell_type": "code",
   "execution_count": 116,
   "id": "a3bb7848",
   "metadata": {},
   "outputs": [
    {
     "data": {
      "text/plain": [
       "(1.595945538661058,\n",
       " 0.6603094907091882,\n",
       " 3,\n",
       " array([[  42.76531299,  146.81287862,  131.11756787,   72.30424052],\n",
       "        [ 442.23468701, 1518.18712138, 1355.88243213,  747.69575948]]))"
      ]
     },
     "execution_count": 116,
     "metadata": {},
     "output_type": "execute_result"
    }
   ],
   "source": [
    "p_value = stats.chi2_contingency(cust)\n",
    "p_value"
   ]
  },
  {
   "cell_type": "code",
   "execution_count": 119,
   "id": "5c7a282a",
   "metadata": {},
   "outputs": [
    {
     "data": {
      "text/plain": [
       "0.6603094907091882"
      ]
     },
     "execution_count": 119,
     "metadata": {},
     "output_type": "execute_result"
    }
   ],
   "source": [
    "p_value[1]\n",
    "#p-value (0.66)> α (0.05), hence we can't reject the null hypothesis. Proportion of male and female across regions is same."
   ]
  },
  {
   "cell_type": "markdown",
   "id": "00ef6838",
   "metadata": {},
   "source": [
    "# Q4"
   ]
  },
  {
   "cell_type": "markdown",
   "id": "c89509a2",
   "metadata": {},
   "source": [
    "\n",
    "Q4)TeleCall uses 4 centers around the globe to process customer order forms. They audit a certain %  of the customer order\n",
    "forms. Any error in order form renders it defective and has to be reworked before processing.  The manager wants to check \n",
    "whether the defective %  varies by centre. Please analyze the data at 5% significance level and help the manager draw \n",
    "appropriate inferences\n"
   ]
  },
  {
   "cell_type": "code",
   "execution_count": null,
   "id": "7ff3a97b",
   "metadata": {},
   "outputs": [],
   "source": [
    "Make two Hypothesis one contradicting to other\n",
    "Null Hypothesis is want we want to prove\n",
    "Null Hypothesis: mu1=mu2=mu3=mu4 \n",
    "Alternative Hypthosis: Atleast One of them is Differente\n",
    "Decide a cut-off value\n",
    "Significance 5%\n",
    "alpha = 0.05"
   ]
  },
  {
   "cell_type": "code",
   "execution_count": 21,
   "id": "7fd49ada",
   "metadata": {},
   "outputs": [],
   "source": [
    "import pandas as pd\n",
    "import numpy as np\n",
    "import matplotlib.pyplot as plt\n",
    "import scipy.stats as st\n",
    "import statsmodels.api as sm"
   ]
  },
  {
   "cell_type": "code",
   "execution_count": 28,
   "id": "2c8021eb",
   "metadata": {},
   "outputs": [
    {
     "data": {
      "text/html": [
       "<div>\n",
       "<style scoped>\n",
       "    .dataframe tbody tr th:only-of-type {\n",
       "        vertical-align: middle;\n",
       "    }\n",
       "\n",
       "    .dataframe tbody tr th {\n",
       "        vertical-align: top;\n",
       "    }\n",
       "\n",
       "    .dataframe thead th {\n",
       "        text-align: right;\n",
       "    }\n",
       "</style>\n",
       "<table border=\"1\" class=\"dataframe\">\n",
       "  <thead>\n",
       "    <tr style=\"text-align: right;\">\n",
       "      <th></th>\n",
       "      <th>Phillippines</th>\n",
       "      <th>Indonesia</th>\n",
       "      <th>Malta</th>\n",
       "      <th>India</th>\n",
       "    </tr>\n",
       "  </thead>\n",
       "  <tbody>\n",
       "    <tr>\n",
       "      <th>294</th>\n",
       "      <td>Error Free</td>\n",
       "      <td>Defective</td>\n",
       "      <td>Error Free</td>\n",
       "      <td>Error Free</td>\n",
       "    </tr>\n",
       "    <tr>\n",
       "      <th>49</th>\n",
       "      <td>Error Free</td>\n",
       "      <td>Error Free</td>\n",
       "      <td>Error Free</td>\n",
       "      <td>Defective</td>\n",
       "    </tr>\n",
       "    <tr>\n",
       "      <th>222</th>\n",
       "      <td>Defective</td>\n",
       "      <td>Error Free</td>\n",
       "      <td>Error Free</td>\n",
       "      <td>Error Free</td>\n",
       "    </tr>\n",
       "    <tr>\n",
       "      <th>203</th>\n",
       "      <td>Error Free</td>\n",
       "      <td>Error Free</td>\n",
       "      <td>Error Free</td>\n",
       "      <td>Error Free</td>\n",
       "    </tr>\n",
       "    <tr>\n",
       "      <th>160</th>\n",
       "      <td>Error Free</td>\n",
       "      <td>Error Free</td>\n",
       "      <td>Error Free</td>\n",
       "      <td>Error Free</td>\n",
       "    </tr>\n",
       "  </tbody>\n",
       "</table>\n",
       "</div>"
      ],
      "text/plain": [
       "    Phillippines   Indonesia       Malta       India\n",
       "294   Error Free   Defective  Error Free  Error Free\n",
       "49    Error Free  Error Free  Error Free   Defective\n",
       "222    Defective  Error Free  Error Free  Error Free\n",
       "203   Error Free  Error Free  Error Free  Error Free\n",
       "160   Error Free  Error Free  Error Free  Error Free"
      ]
     },
     "execution_count": 28,
     "metadata": {},
     "output_type": "execute_result"
    }
   ],
   "source": [
    "data=pd.read_csv(\"Costomer OrderForm.csv\")\n",
    "data.sample(5)"
   ]
  },
  {
   "cell_type": "code",
   "execution_count": 29,
   "id": "ebfda5ef",
   "metadata": {},
   "outputs": [
    {
     "data": {
      "text/html": [
       "<div>\n",
       "<style scoped>\n",
       "    .dataframe tbody tr th:only-of-type {\n",
       "        vertical-align: middle;\n",
       "    }\n",
       "\n",
       "    .dataframe tbody tr th {\n",
       "        vertical-align: top;\n",
       "    }\n",
       "\n",
       "    .dataframe thead th {\n",
       "        text-align: right;\n",
       "    }\n",
       "</style>\n",
       "<table border=\"1\" class=\"dataframe\">\n",
       "  <thead>\n",
       "    <tr style=\"text-align: right;\">\n",
       "      <th></th>\n",
       "      <th>Phillippines</th>\n",
       "      <th>Indonesia</th>\n",
       "      <th>Malta</th>\n",
       "      <th>India</th>\n",
       "    </tr>\n",
       "  </thead>\n",
       "  <tbody>\n",
       "    <tr>\n",
       "      <th>count</th>\n",
       "      <td>300</td>\n",
       "      <td>300</td>\n",
       "      <td>300</td>\n",
       "      <td>300</td>\n",
       "    </tr>\n",
       "    <tr>\n",
       "      <th>unique</th>\n",
       "      <td>2</td>\n",
       "      <td>2</td>\n",
       "      <td>2</td>\n",
       "      <td>2</td>\n",
       "    </tr>\n",
       "    <tr>\n",
       "      <th>top</th>\n",
       "      <td>Error Free</td>\n",
       "      <td>Error Free</td>\n",
       "      <td>Error Free</td>\n",
       "      <td>Error Free</td>\n",
       "    </tr>\n",
       "    <tr>\n",
       "      <th>freq</th>\n",
       "      <td>271</td>\n",
       "      <td>267</td>\n",
       "      <td>269</td>\n",
       "      <td>280</td>\n",
       "    </tr>\n",
       "  </tbody>\n",
       "</table>\n",
       "</div>"
      ],
      "text/plain": [
       "       Phillippines   Indonesia       Malta       India\n",
       "count           300         300         300         300\n",
       "unique            2           2           2           2\n",
       "top      Error Free  Error Free  Error Free  Error Free\n",
       "freq            271         267         269         280"
      ]
     },
     "execution_count": 29,
     "metadata": {},
     "output_type": "execute_result"
    }
   ],
   "source": [
    "contingency_table=[centers['Phillippines'].value_counts(),]"
   ]
  },
  {
   "cell_type": "code",
   "execution_count": 34,
   "id": "ca7e5253",
   "metadata": {},
   "outputs": [
    {
     "name": "stdout",
     "output_type": "stream",
     "text": [
      "Error Free    271\n",
      "Defective      29\n",
      "Name: Phillippines, dtype: int64 \n",
      " Error Free    267\n",
      "Defective      33\n",
      "Name: Indonesia, dtype: int64 \n",
      " Error Free    269\n",
      "Defective      31\n",
      "Name: Malta, dtype: int64 \n",
      " Error Free    280\n",
      "Defective      20\n",
      "Name: India, dtype: int64\n"
     ]
    }
   ],
   "source": [
    "print(data['Phillippines'].value_counts(),'\\n',data['Indonesia'].value_counts(),'\\n',data['Malta'].value_counts(),'\\n',data['India'].value_counts())\n"
   ]
  },
  {
   "cell_type": "code",
   "execution_count": 35,
   "id": "a2f12f65",
   "metadata": {},
   "outputs": [
    {
     "name": "stdout",
     "output_type": "stream",
     "text": [
      "[[271, 267, 269, 280], [29, 33, 31, 20]]\n"
     ]
    }
   ],
   "source": [
    "contingency_table = [[271,267,269,280],\n",
    "                    [29,33,31,20]]\n",
    "print(contingency_table)"
   ]
  },
  {
   "cell_type": "code",
   "execution_count": 37,
   "id": "a7b26146",
   "metadata": {},
   "outputs": [
    {
     "name": "stdout",
     "output_type": "stream",
     "text": [
      " Statistics =  3.858960685820355 \n",
      " P_Value =  0.2771020991233135 \n",
      " degree of freedom = 3 \n",
      " Expected Values =  [[271.75 271.75 271.75 271.75]\n",
      " [ 28.25  28.25  28.25  28.25]]\n"
     ]
    }
   ],
   "source": [
    "#Calculating Expected Values for Observed data\n",
    "stat, p, df, exp = stats.chi2_contingency(contingency_table)\n",
    "print(\" Statistics = \",stat,\"\\n\",'P_Value = ', p,'\\n', 'degree of freedom =', df,'\\n', 'Expected Values = ', exp)"
   ]
  },
  {
   "cell_type": "code",
   "execution_count": 40,
   "id": "42936b6b",
   "metadata": {},
   "outputs": [
    {
     "name": "stdout",
     "output_type": "stream",
     "text": [
      " Test Statistic =  3.858960685820355 \n",
      " p_value = 0.4254298144535761\n"
     ]
    }
   ],
   "source": [
    "#Defining Expected values and observed values\n",
    "observed = np.array([271, 267, 269, 280, 29, 33, 31, 20])\n",
    "expected = np.array([271.75, 271.75, 271.75, 271.75, 28.25, 28.25, 28.25, 28.25])\n",
    "#Compare Evidences with Hypothesis using t-statictic\n",
    "test_statistic , p_value = stats.chisquare(observed, expected, ddof = df)\n",
    "print(\" Test Statistic = \",test_statistic,'\\n', 'p_value =',p_value)"
   ]
  },
  {
   "cell_type": "code",
   "execution_count": 41,
   "id": "3af88462",
   "metadata": {},
   "outputs": [
    {
     "name": "stdout",
     "output_type": "stream",
     "text": [
      "Significnace=0.050, p=0.425\n",
      "We fail to reject Null hypothesis\n"
     ]
    }
   ],
   "source": [
    "alpha = 0.05\n",
    "print('Significnace=%.3f, p=%.3f' % (alpha, p_value))\n",
    "if p_value <= alpha:\n",
    "    print('We reject Null Hypothesis there is a significance difference between TAT of reports of the laboratories')\n",
    "else:\n",
    "    print('We fail to reject Null hypothesis')"
   ]
  },
  {
   "cell_type": "code",
   "execution_count": null,
   "id": "0fc0cda2",
   "metadata": {},
   "outputs": [],
   "source": []
  },
  {
   "cell_type": "code",
   "execution_count": null,
   "id": "a5e53586",
   "metadata": {},
   "outputs": [],
   "source": []
  }
 ],
 "metadata": {
  "kernelspec": {
   "display_name": "Python 3 (ipykernel)",
   "language": "python",
   "name": "python3"
  },
  "language_info": {
   "codemirror_mode": {
    "name": "ipython",
    "version": 3
   },
   "file_extension": ".py",
   "mimetype": "text/x-python",
   "name": "python",
   "nbconvert_exporter": "python",
   "pygments_lexer": "ipython3",
   "version": "3.9.12"
  }
 },
 "nbformat": 4,
 "nbformat_minor": 5
}
